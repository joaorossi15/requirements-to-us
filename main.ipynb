{
  "nbformat": 4,
  "nbformat_minor": 0,
  "metadata": {
    "colab": {
      "provenance": [],
      "gpuType": "A100",
      "machine_shape": "hm",
      "authorship_tag": "ABX9TyP5w7smDKAKlo2LjHvkEb8E"
    },
    "kernelspec": {
      "name": "python3",
      "display_name": "Python 3"
    },
    "language_info": {
      "name": "python"
    },
    "accelerator": "GPU",
    "widgets": {
      "application/vnd.jupyter.widget-state+json": {
        "46535d24f51045379f6cc1463d8b805d": {
          "model_module": "@jupyter-widgets/controls",
          "model_name": "VBoxModel",
          "model_module_version": "1.5.0",
          "state": {
            "_dom_classes": [],
            "_model_module": "@jupyter-widgets/controls",
            "_model_module_version": "1.5.0",
            "_model_name": "VBoxModel",
            "_view_count": null,
            "_view_module": "@jupyter-widgets/controls",
            "_view_module_version": "1.5.0",
            "_view_name": "VBoxView",
            "box_style": "",
            "children": [],
            "layout": "IPY_MODEL_c5be35e5e6114c3aa516d00c5c929bef"
          }
        },
        "0866eb0eb84e4305bbc4cfc8a9656609": {
          "model_module": "@jupyter-widgets/controls",
          "model_name": "HTMLModel",
          "model_module_version": "1.5.0",
          "state": {
            "_dom_classes": [],
            "_model_module": "@jupyter-widgets/controls",
            "_model_module_version": "1.5.0",
            "_model_name": "HTMLModel",
            "_view_count": null,
            "_view_module": "@jupyter-widgets/controls",
            "_view_module_version": "1.5.0",
            "_view_name": "HTMLView",
            "description": "",
            "description_tooltip": null,
            "layout": "IPY_MODEL_a43e708be1e7413694b92d5fe5fd5062",
            "placeholder": "​",
            "style": "IPY_MODEL_17e1f61cbe6a46fcb1a7ea882d05fa07",
            "value": "<center> <img\nsrc=https://huggingface.co/front/assets/huggingface_logo-noborder.svg\nalt='Hugging Face'> <br> Copy a token from <a\nhref=\"https://huggingface.co/settings/tokens\" target=\"_blank\">your Hugging Face\ntokens page</a> and paste it below. <br> Immediately click login after copying\nyour token or it might be stored in plain text in this notebook file. </center>"
          }
        },
        "d5ba276cdd0e481ab403a6e9b209fb43": {
          "model_module": "@jupyter-widgets/controls",
          "model_name": "PasswordModel",
          "model_module_version": "1.5.0",
          "state": {
            "_dom_classes": [],
            "_model_module": "@jupyter-widgets/controls",
            "_model_module_version": "1.5.0",
            "_model_name": "PasswordModel",
            "_view_count": null,
            "_view_module": "@jupyter-widgets/controls",
            "_view_module_version": "1.5.0",
            "_view_name": "PasswordView",
            "continuous_update": true,
            "description": "Token:",
            "description_tooltip": null,
            "disabled": false,
            "layout": "IPY_MODEL_93a8828b242847b581be8a09d2161b3c",
            "placeholder": "​",
            "style": "IPY_MODEL_7cf0d396c9ea4c3aa21bc22fd73f499a",
            "value": ""
          }
        },
        "24d834974aec4a5d97e8e5b19393ac8e": {
          "model_module": "@jupyter-widgets/controls",
          "model_name": "CheckboxModel",
          "model_module_version": "1.5.0",
          "state": {
            "_dom_classes": [],
            "_model_module": "@jupyter-widgets/controls",
            "_model_module_version": "1.5.0",
            "_model_name": "CheckboxModel",
            "_view_count": null,
            "_view_module": "@jupyter-widgets/controls",
            "_view_module_version": "1.5.0",
            "_view_name": "CheckboxView",
            "description": "Add token as git credential?",
            "description_tooltip": null,
            "disabled": false,
            "indent": true,
            "layout": "IPY_MODEL_827da57358a04ec99683f7f60553dea6",
            "style": "IPY_MODEL_bbba4d93f0bd4275bebbc09c222e4b7e",
            "value": true
          }
        },
        "06590db03ea64da48161d819bc0af1a2": {
          "model_module": "@jupyter-widgets/controls",
          "model_name": "ButtonModel",
          "model_module_version": "1.5.0",
          "state": {
            "_dom_classes": [],
            "_model_module": "@jupyter-widgets/controls",
            "_model_module_version": "1.5.0",
            "_model_name": "ButtonModel",
            "_view_count": null,
            "_view_module": "@jupyter-widgets/controls",
            "_view_module_version": "1.5.0",
            "_view_name": "ButtonView",
            "button_style": "",
            "description": "Login",
            "disabled": false,
            "icon": "",
            "layout": "IPY_MODEL_1757044e455a47368ccd57cbe87f03ee",
            "style": "IPY_MODEL_d39569f9303c4ef8916271c20d5cec19",
            "tooltip": ""
          }
        },
        "0b1f51b2ca9f48adbd18d14c25e332fa": {
          "model_module": "@jupyter-widgets/controls",
          "model_name": "HTMLModel",
          "model_module_version": "1.5.0",
          "state": {
            "_dom_classes": [],
            "_model_module": "@jupyter-widgets/controls",
            "_model_module_version": "1.5.0",
            "_model_name": "HTMLModel",
            "_view_count": null,
            "_view_module": "@jupyter-widgets/controls",
            "_view_module_version": "1.5.0",
            "_view_name": "HTMLView",
            "description": "",
            "description_tooltip": null,
            "layout": "IPY_MODEL_bcc88aec9fd144d1afa4ee7f9d54fb71",
            "placeholder": "​",
            "style": "IPY_MODEL_1396d3e633f74123b1ce4c29eb0d578d",
            "value": "\n<b>Pro Tip:</b> If you don't already have one, you can create a dedicated\n'notebooks' token with 'write' access, that you can then easily reuse for all\nnotebooks. </center>"
          }
        },
        "c5be35e5e6114c3aa516d00c5c929bef": {
          "model_module": "@jupyter-widgets/base",
          "model_name": "LayoutModel",
          "model_module_version": "1.2.0",
          "state": {
            "_model_module": "@jupyter-widgets/base",
            "_model_module_version": "1.2.0",
            "_model_name": "LayoutModel",
            "_view_count": null,
            "_view_module": "@jupyter-widgets/base",
            "_view_module_version": "1.2.0",
            "_view_name": "LayoutView",
            "align_content": null,
            "align_items": "center",
            "align_self": null,
            "border": null,
            "bottom": null,
            "display": "flex",
            "flex": null,
            "flex_flow": "column",
            "grid_area": null,
            "grid_auto_columns": null,
            "grid_auto_flow": null,
            "grid_auto_rows": null,
            "grid_column": null,
            "grid_gap": null,
            "grid_row": null,
            "grid_template_areas": null,
            "grid_template_columns": null,
            "grid_template_rows": null,
            "height": null,
            "justify_content": null,
            "justify_items": null,
            "left": null,
            "margin": null,
            "max_height": null,
            "max_width": null,
            "min_height": null,
            "min_width": null,
            "object_fit": null,
            "object_position": null,
            "order": null,
            "overflow": null,
            "overflow_x": null,
            "overflow_y": null,
            "padding": null,
            "right": null,
            "top": null,
            "visibility": null,
            "width": "50%"
          }
        },
        "a43e708be1e7413694b92d5fe5fd5062": {
          "model_module": "@jupyter-widgets/base",
          "model_name": "LayoutModel",
          "model_module_version": "1.2.0",
          "state": {
            "_model_module": "@jupyter-widgets/base",
            "_model_module_version": "1.2.0",
            "_model_name": "LayoutModel",
            "_view_count": null,
            "_view_module": "@jupyter-widgets/base",
            "_view_module_version": "1.2.0",
            "_view_name": "LayoutView",
            "align_content": null,
            "align_items": null,
            "align_self": null,
            "border": null,
            "bottom": null,
            "display": null,
            "flex": null,
            "flex_flow": null,
            "grid_area": null,
            "grid_auto_columns": null,
            "grid_auto_flow": null,
            "grid_auto_rows": null,
            "grid_column": null,
            "grid_gap": null,
            "grid_row": null,
            "grid_template_areas": null,
            "grid_template_columns": null,
            "grid_template_rows": null,
            "height": null,
            "justify_content": null,
            "justify_items": null,
            "left": null,
            "margin": null,
            "max_height": null,
            "max_width": null,
            "min_height": null,
            "min_width": null,
            "object_fit": null,
            "object_position": null,
            "order": null,
            "overflow": null,
            "overflow_x": null,
            "overflow_y": null,
            "padding": null,
            "right": null,
            "top": null,
            "visibility": null,
            "width": null
          }
        },
        "17e1f61cbe6a46fcb1a7ea882d05fa07": {
          "model_module": "@jupyter-widgets/controls",
          "model_name": "DescriptionStyleModel",
          "model_module_version": "1.5.0",
          "state": {
            "_model_module": "@jupyter-widgets/controls",
            "_model_module_version": "1.5.0",
            "_model_name": "DescriptionStyleModel",
            "_view_count": null,
            "_view_module": "@jupyter-widgets/base",
            "_view_module_version": "1.2.0",
            "_view_name": "StyleView",
            "description_width": ""
          }
        },
        "93a8828b242847b581be8a09d2161b3c": {
          "model_module": "@jupyter-widgets/base",
          "model_name": "LayoutModel",
          "model_module_version": "1.2.0",
          "state": {
            "_model_module": "@jupyter-widgets/base",
            "_model_module_version": "1.2.0",
            "_model_name": "LayoutModel",
            "_view_count": null,
            "_view_module": "@jupyter-widgets/base",
            "_view_module_version": "1.2.0",
            "_view_name": "LayoutView",
            "align_content": null,
            "align_items": null,
            "align_self": null,
            "border": null,
            "bottom": null,
            "display": null,
            "flex": null,
            "flex_flow": null,
            "grid_area": null,
            "grid_auto_columns": null,
            "grid_auto_flow": null,
            "grid_auto_rows": null,
            "grid_column": null,
            "grid_gap": null,
            "grid_row": null,
            "grid_template_areas": null,
            "grid_template_columns": null,
            "grid_template_rows": null,
            "height": null,
            "justify_content": null,
            "justify_items": null,
            "left": null,
            "margin": null,
            "max_height": null,
            "max_width": null,
            "min_height": null,
            "min_width": null,
            "object_fit": null,
            "object_position": null,
            "order": null,
            "overflow": null,
            "overflow_x": null,
            "overflow_y": null,
            "padding": null,
            "right": null,
            "top": null,
            "visibility": null,
            "width": null
          }
        },
        "7cf0d396c9ea4c3aa21bc22fd73f499a": {
          "model_module": "@jupyter-widgets/controls",
          "model_name": "DescriptionStyleModel",
          "model_module_version": "1.5.0",
          "state": {
            "_model_module": "@jupyter-widgets/controls",
            "_model_module_version": "1.5.0",
            "_model_name": "DescriptionStyleModel",
            "_view_count": null,
            "_view_module": "@jupyter-widgets/base",
            "_view_module_version": "1.2.0",
            "_view_name": "StyleView",
            "description_width": ""
          }
        },
        "827da57358a04ec99683f7f60553dea6": {
          "model_module": "@jupyter-widgets/base",
          "model_name": "LayoutModel",
          "model_module_version": "1.2.0",
          "state": {
            "_model_module": "@jupyter-widgets/base",
            "_model_module_version": "1.2.0",
            "_model_name": "LayoutModel",
            "_view_count": null,
            "_view_module": "@jupyter-widgets/base",
            "_view_module_version": "1.2.0",
            "_view_name": "LayoutView",
            "align_content": null,
            "align_items": null,
            "align_self": null,
            "border": null,
            "bottom": null,
            "display": null,
            "flex": null,
            "flex_flow": null,
            "grid_area": null,
            "grid_auto_columns": null,
            "grid_auto_flow": null,
            "grid_auto_rows": null,
            "grid_column": null,
            "grid_gap": null,
            "grid_row": null,
            "grid_template_areas": null,
            "grid_template_columns": null,
            "grid_template_rows": null,
            "height": null,
            "justify_content": null,
            "justify_items": null,
            "left": null,
            "margin": null,
            "max_height": null,
            "max_width": null,
            "min_height": null,
            "min_width": null,
            "object_fit": null,
            "object_position": null,
            "order": null,
            "overflow": null,
            "overflow_x": null,
            "overflow_y": null,
            "padding": null,
            "right": null,
            "top": null,
            "visibility": null,
            "width": null
          }
        },
        "bbba4d93f0bd4275bebbc09c222e4b7e": {
          "model_module": "@jupyter-widgets/controls",
          "model_name": "DescriptionStyleModel",
          "model_module_version": "1.5.0",
          "state": {
            "_model_module": "@jupyter-widgets/controls",
            "_model_module_version": "1.5.0",
            "_model_name": "DescriptionStyleModel",
            "_view_count": null,
            "_view_module": "@jupyter-widgets/base",
            "_view_module_version": "1.2.0",
            "_view_name": "StyleView",
            "description_width": ""
          }
        },
        "1757044e455a47368ccd57cbe87f03ee": {
          "model_module": "@jupyter-widgets/base",
          "model_name": "LayoutModel",
          "model_module_version": "1.2.0",
          "state": {
            "_model_module": "@jupyter-widgets/base",
            "_model_module_version": "1.2.0",
            "_model_name": "LayoutModel",
            "_view_count": null,
            "_view_module": "@jupyter-widgets/base",
            "_view_module_version": "1.2.0",
            "_view_name": "LayoutView",
            "align_content": null,
            "align_items": null,
            "align_self": null,
            "border": null,
            "bottom": null,
            "display": null,
            "flex": null,
            "flex_flow": null,
            "grid_area": null,
            "grid_auto_columns": null,
            "grid_auto_flow": null,
            "grid_auto_rows": null,
            "grid_column": null,
            "grid_gap": null,
            "grid_row": null,
            "grid_template_areas": null,
            "grid_template_columns": null,
            "grid_template_rows": null,
            "height": null,
            "justify_content": null,
            "justify_items": null,
            "left": null,
            "margin": null,
            "max_height": null,
            "max_width": null,
            "min_height": null,
            "min_width": null,
            "object_fit": null,
            "object_position": null,
            "order": null,
            "overflow": null,
            "overflow_x": null,
            "overflow_y": null,
            "padding": null,
            "right": null,
            "top": null,
            "visibility": null,
            "width": null
          }
        },
        "d39569f9303c4ef8916271c20d5cec19": {
          "model_module": "@jupyter-widgets/controls",
          "model_name": "ButtonStyleModel",
          "model_module_version": "1.5.0",
          "state": {
            "_model_module": "@jupyter-widgets/controls",
            "_model_module_version": "1.5.0",
            "_model_name": "ButtonStyleModel",
            "_view_count": null,
            "_view_module": "@jupyter-widgets/base",
            "_view_module_version": "1.2.0",
            "_view_name": "StyleView",
            "button_color": null,
            "font_weight": ""
          }
        },
        "bcc88aec9fd144d1afa4ee7f9d54fb71": {
          "model_module": "@jupyter-widgets/base",
          "model_name": "LayoutModel",
          "model_module_version": "1.2.0",
          "state": {
            "_model_module": "@jupyter-widgets/base",
            "_model_module_version": "1.2.0",
            "_model_name": "LayoutModel",
            "_view_count": null,
            "_view_module": "@jupyter-widgets/base",
            "_view_module_version": "1.2.0",
            "_view_name": "LayoutView",
            "align_content": null,
            "align_items": null,
            "align_self": null,
            "border": null,
            "bottom": null,
            "display": null,
            "flex": null,
            "flex_flow": null,
            "grid_area": null,
            "grid_auto_columns": null,
            "grid_auto_flow": null,
            "grid_auto_rows": null,
            "grid_column": null,
            "grid_gap": null,
            "grid_row": null,
            "grid_template_areas": null,
            "grid_template_columns": null,
            "grid_template_rows": null,
            "height": null,
            "justify_content": null,
            "justify_items": null,
            "left": null,
            "margin": null,
            "max_height": null,
            "max_width": null,
            "min_height": null,
            "min_width": null,
            "object_fit": null,
            "object_position": null,
            "order": null,
            "overflow": null,
            "overflow_x": null,
            "overflow_y": null,
            "padding": null,
            "right": null,
            "top": null,
            "visibility": null,
            "width": null
          }
        },
        "1396d3e633f74123b1ce4c29eb0d578d": {
          "model_module": "@jupyter-widgets/controls",
          "model_name": "DescriptionStyleModel",
          "model_module_version": "1.5.0",
          "state": {
            "_model_module": "@jupyter-widgets/controls",
            "_model_module_version": "1.5.0",
            "_model_name": "DescriptionStyleModel",
            "_view_count": null,
            "_view_module": "@jupyter-widgets/base",
            "_view_module_version": "1.2.0",
            "_view_name": "StyleView",
            "description_width": ""
          }
        },
        "685a412192f54c3499032c2b6724c0a5": {
          "model_module": "@jupyter-widgets/controls",
          "model_name": "LabelModel",
          "model_module_version": "1.5.0",
          "state": {
            "_dom_classes": [],
            "_model_module": "@jupyter-widgets/controls",
            "_model_module_version": "1.5.0",
            "_model_name": "LabelModel",
            "_view_count": null,
            "_view_module": "@jupyter-widgets/controls",
            "_view_module_version": "1.5.0",
            "_view_name": "LabelView",
            "description": "",
            "description_tooltip": null,
            "layout": "IPY_MODEL_07e2dd3201db4ef887cb0f7fc1952a3e",
            "placeholder": "​",
            "style": "IPY_MODEL_2be164ff47e4465097fe56be1bd780f4",
            "value": "Connecting..."
          }
        },
        "07e2dd3201db4ef887cb0f7fc1952a3e": {
          "model_module": "@jupyter-widgets/base",
          "model_name": "LayoutModel",
          "model_module_version": "1.2.0",
          "state": {
            "_model_module": "@jupyter-widgets/base",
            "_model_module_version": "1.2.0",
            "_model_name": "LayoutModel",
            "_view_count": null,
            "_view_module": "@jupyter-widgets/base",
            "_view_module_version": "1.2.0",
            "_view_name": "LayoutView",
            "align_content": null,
            "align_items": null,
            "align_self": null,
            "border": null,
            "bottom": null,
            "display": null,
            "flex": null,
            "flex_flow": null,
            "grid_area": null,
            "grid_auto_columns": null,
            "grid_auto_flow": null,
            "grid_auto_rows": null,
            "grid_column": null,
            "grid_gap": null,
            "grid_row": null,
            "grid_template_areas": null,
            "grid_template_columns": null,
            "grid_template_rows": null,
            "height": null,
            "justify_content": null,
            "justify_items": null,
            "left": null,
            "margin": null,
            "max_height": null,
            "max_width": null,
            "min_height": null,
            "min_width": null,
            "object_fit": null,
            "object_position": null,
            "order": null,
            "overflow": null,
            "overflow_x": null,
            "overflow_y": null,
            "padding": null,
            "right": null,
            "top": null,
            "visibility": null,
            "width": null
          }
        },
        "2be164ff47e4465097fe56be1bd780f4": {
          "model_module": "@jupyter-widgets/controls",
          "model_name": "DescriptionStyleModel",
          "model_module_version": "1.5.0",
          "state": {
            "_model_module": "@jupyter-widgets/controls",
            "_model_module_version": "1.5.0",
            "_model_name": "DescriptionStyleModel",
            "_view_count": null,
            "_view_module": "@jupyter-widgets/base",
            "_view_module_version": "1.2.0",
            "_view_name": "StyleView",
            "description_width": ""
          }
        }
      }
    }
  },
  "cells": [
    {
      "cell_type": "code",
      "source": [
        "! apt-get install git\n",
        "! git clone https://github.com/joaorossi15/requirements-to-us.git\n",
        "# ! apt-get install texlive texlive-xetex texlive-latex-extra pandoc"
      ],
      "metadata": {
        "collapsed": true,
        "id": "z3-nVfP9WZPW"
      },
      "execution_count": null,
      "outputs": []
    },
    {
      "cell_type": "code",
      "source": [
        "! pip install langchain_community\n",
        "! pip install chromadb\n",
        "! pip install pypdf\n",
        "! pip install importmonkey\n",
        "! pip install optimum\n",
        "! pip install auto-gptq\n",
        "! pip install peft\n",
        "!pip install pypandoc"
      ],
      "metadata": {
        "id": "uWRuiL74lOq7",
        "collapsed": true
      },
      "execution_count": null,
      "outputs": []
    },
    {
      "cell_type": "code",
      "source": [
        "from importmonkey import add_path\n",
        "add_path(\"/content/requirements-to-us/\")\n",
        "import flow\n",
        "from rag.rag import generate_store"
      ],
      "metadata": {
        "id": "n-Im13JeR5lk"
      },
      "execution_count": 5,
      "outputs": []
    },
    {
      "cell_type": "markdown",
      "source": [
        "## Generate vector database using the domain specific knowledge documents"
      ],
      "metadata": {
        "id": "_FyZWGP-TEHx"
      }
    },
    {
      "cell_type": "code",
      "source": [
        "generate_store(\"./requirements-to-us/rag-data/\", \"./requirements-to-us/chroma/\")"
      ],
      "metadata": {
        "id": "TUZGqLiBTue9",
        "collapsed": true
      },
      "execution_count": null,
      "outputs": []
    },
    {
      "cell_type": "markdown",
      "source": [
        "### Create langchain pipeline to use the vector database and the model to generate the best response possible"
      ],
      "metadata": {
        "id": "btynC8HTTTaq"
      }
    },
    {
      "cell_type": "code",
      "source": [
        "from huggingface_hub import notebook_login\n",
        "notebook_login()"
      ],
      "metadata": {
        "collapsed": true,
        "id": "WF3jJueNCTzo",
        "colab": {
          "base_uri": "https://localhost:8080/",
          "height": 17,
          "referenced_widgets": [
            "46535d24f51045379f6cc1463d8b805d",
            "0866eb0eb84e4305bbc4cfc8a9656609",
            "d5ba276cdd0e481ab403a6e9b209fb43",
            "24d834974aec4a5d97e8e5b19393ac8e",
            "06590db03ea64da48161d819bc0af1a2",
            "0b1f51b2ca9f48adbd18d14c25e332fa",
            "c5be35e5e6114c3aa516d00c5c929bef",
            "a43e708be1e7413694b92d5fe5fd5062",
            "17e1f61cbe6a46fcb1a7ea882d05fa07",
            "93a8828b242847b581be8a09d2161b3c",
            "7cf0d396c9ea4c3aa21bc22fd73f499a",
            "827da57358a04ec99683f7f60553dea6",
            "bbba4d93f0bd4275bebbc09c222e4b7e",
            "1757044e455a47368ccd57cbe87f03ee",
            "d39569f9303c4ef8916271c20d5cec19",
            "bcc88aec9fd144d1afa4ee7f9d54fb71",
            "1396d3e633f74123b1ce4c29eb0d578d",
            "685a412192f54c3499032c2b6724c0a5",
            "07e2dd3201db4ef887cb0f7fc1952a3e",
            "2be164ff47e4465097fe56be1bd780f4"
          ]
        },
        "outputId": "dcd0671e-4bda-4c9f-ad34-ce9fe0e9ae9d"
      },
      "execution_count": 7,
      "outputs": [
        {
          "output_type": "display_data",
          "data": {
            "text/plain": [
              "VBox(children=(HTML(value='<center> <img\\nsrc=https://huggingface.co/front/assets/huggingface_logo-noborder.sv…"
            ],
            "application/vnd.jupyter.widget-view+json": {
              "version_major": 2,
              "version_minor": 0,
              "model_id": "46535d24f51045379f6cc1463d8b805d"
            }
          },
          "metadata": {}
        }
      ]
    },
    {
      "cell_type": "code",
      "source": [
        "chain = flow.model_rag(persist_path=\"./requirements-to-us/chroma/\")"
      ],
      "metadata": {
        "id": "7SsM6LbCKJID",
        "collapsed": true
      },
      "execution_count": null,
      "outputs": []
    },
    {
      "cell_type": "code",
      "source": [
        "query = [\"The AI should not make decisions without user consent\"]\n",
        "query.append(\"The system should be transparent with how and where the training and testing data were gathered\")\n",
        "query.append(\"Develop predictive analytics to forecast stock levels and avoid overstocking or stockouts, improving supply chain efficiency.\")\n",
        "\n",
        "c = []\n",
        "for q in query:\n",
        "    c.append(chain.invoke(q))"
      ],
      "metadata": {
        "id": "ZgPJLNJ4-WkT"
      },
      "execution_count": null,
      "outputs": []
    },
    {
      "cell_type": "markdown",
      "source": [
        "### Response generated"
      ],
      "metadata": {
        "id": "-V-R5YGHTh6n"
      }
    },
    {
      "cell_type": "code",
      "source": [
        "import re\n",
        "\n",
        "for e in c:\n",
        "    s = ''.join(e['text'].split('[/INST]')[1])\n",
        "    strlist = re.split('(?<=\\D)(?=\\d)', s)\n",
        "    strlist = ''.join(strlist[:-1])\n",
        "    strlist = re.sub(r'- .*Criteria', '- ', strlist)\n",
        "    print(strlist)\n",
        "    print()\n",
        "    print()"
      ],
      "metadata": {
        "colab": {
          "base_uri": "https://localhost:8080/"
        },
        "id": "dRtazqcWESHo",
        "outputId": "9b875876-c0f3-4c86-e714-24a66e2e35dc"
      },
      "execution_count": 10,
      "outputs": [
        {
          "output_type": "stream",
          "name": "stdout",
          "text": [
            "\n",
            "     Title: User Consent for Decision Making\n",
            "     Description: As a responsible AI user, I want the AI to obtain my explicit consent before making any decisions affecting me so that my autonomy and privacy are respected.\n",
            "     Work:\n",
            "     1. Implement a mechanism for obtaining user consent prior to decision-making processes involving personal data.\n",
            "     2. Ensure that the consent process is transparent and easy to understand for all users.\n",
            "     3. Develop a notification system to inform users whenever their data is being used for decision-making purposes.\n",
            "     4. Provide users with the ability to revoke their consent at any time without penalty.\n",
            "     \n",
            "\n",
            "\n",
            "\n",
            "     Title: Transparent Data Provenance\n",
            "     Description: As a user, I want to know how and where the training and testing data were gathered so that I can understand the origins and trust the accuracy of the AI system's outputs.\n",
            "     Work:\n",
            "     1. The system must provide detailed documentation explaining the methods used to gather the training and testing data.\n",
            "     2. The documentation should include details such as the sources, locations, and any relevant metadata associated with the data collection process.\n",
            "     3. The system should display this information in a clear and accessible manner within its user interface.\n",
            "     \n",
            "\n",
            "\n",
            "\n",
            "     Title: Enhancing Supply Chain Efficiency through Predictive Analytics\n",
            "     Description: As a Supply Chain Manager, I want to utilize predictive analytics to forecast stock levels so that I can optimize inventory management and reduce instances of overstocking or stockouts.\n",
            "     Work:\n",
            "     1. Implement a system capable of analyzing historical sales data and market trends to generate accurate predictions.\n",
            "     2. Ensure the predictive model takes into account factors affecting demand variability, such as seasonality and promotions.\n",
            "     3. Integrate the predictive analytics with existing inventory management software to facilitate real-time monitoring and adjustments.\n",
            "     \n",
            "\n",
            "\n"
          ]
        }
      ]
    },
    {
      "cell_type": "markdown",
      "source": [
        "### Documents used for context"
      ],
      "metadata": {
        "id": "iZEkq8G_Tjwh"
      }
    },
    {
      "cell_type": "code",
      "source": [
        "for docs in c[0]['context']:\n",
        "    print(docs)\n",
        "    print()"
      ],
      "metadata": {
        "colab": {
          "base_uri": "https://localhost:8080/"
        },
        "id": "DBgyNZ_7385z",
        "outputId": "5e58dd8c-2f47-4714-d8bb-3a6058e9500d"
      },
      "execution_count": 12,
      "outputs": [
        {
          "output_type": "stream",
          "name": "stdout",
          "text": [
            "page_content='reasonable expectations and consent of the individuals but must also be used for legitimate\n",
            "purposes (Future Advocacy, 2019).\n",
            "4.7.4 Choice. AI should protect users’ power to decide about decisions in their lives\n",
            "(Floridi et al., 2018). AI should not “compromise human freedom and autonomy by\n",
            "illegitimately and surreptitiously reducing options for and knowledge of citizens” (European\n",
            "Group on Ethics in Science and New Technologies, 2018,p .1 7 ) .' metadata={'page': 13, 'page_label': '74', 'source': 'requirements-to-us/rag-data/ryan.pdf'}\n",
            "\n",
            "page_content='ensure that individuals consent to how their data is being used, AI should not harm\n",
            "individuals’abilities to make choices, or manipulate their self-determination.\n",
            "4.7.1 Freedom.Developers should acknowledge, identify and ameliorate circumstances\n",
            "where AI may create harm against human freedoms. Organisations should ensure that the\n",
            "end users’freedoms are not infringed upon during the use of AI (High-Level Expert Group' metadata={'page': 12, 'page_label': '73', 'source': 'requirements-to-us/rag-data/ryan.pdf'}\n",
            "\n",
            "page_content='Group on Ethics in Science and New Technologies, 2018,p .1 7 ) .\n",
            "4.7.5 Self-determination. There needs to be a balance between decision-making power\n",
            "that is freely given by the user to the autonomous systems and when this option is taken\n",
            "away or undermined by the system (Floridi et al.,2 0 1 8). AI organisations should not\n",
            "manipulate individual’s self-determination, particularly those who may be vulnerable to\n",
            "abuse (Rathenau Institute, 2017,p .2 6 ) .' metadata={'page': 13, 'page_label': '74', 'source': 'requirements-to-us/rag-data/ryan.pdf'}\n",
            "\n",
            "page_content='to the system’s functionality” (High-Level Expert Group on AI, 2019, p. 16). Users should be\n",
            "informed actors and have control over their decisions when interacting with AI (Council of\n",
            "Europe, 2019).\n",
            "4.7.3 Consent. The use of personal data must be clearly articulated and agreed upon\n",
            "before its use (UNDG, 2017). If personal data is repurposed, developers should ensure that it\n",
            "is compatible with the original fair processing requirements when consent is given (ICO,' metadata={'page': 13, 'page_label': '74', 'source': 'requirements-to-us/rag-data/ryan.pdf'}\n",
            "\n"
          ]
        }
      ]
    },
    {
      "cell_type": "markdown",
      "source": [
        "### Generate PDF"
      ],
      "metadata": {
        "id": "PNMO8KoI12I2"
      }
    },
    {
      "cell_type": "code",
      "source": [
        "# from google.colab import drive\n",
        "# drive.mount('/content/drive')"
      ],
      "metadata": {
        "collapsed": true,
        "colab": {
          "base_uri": "https://localhost:8080/"
        },
        "id": "6kgymSqHz7Rs",
        "outputId": "bf93cc40-1a07-4916-8119-c8ce18b2a672"
      },
      "execution_count": null,
      "outputs": [
        {
          "output_type": "stream",
          "name": "stdout",
          "text": [
            "Mounted at /content/drive\n"
          ]
        }
      ]
    },
    {
      "cell_type": "code",
      "source": [
        "# !jupyter nbconvert --to PDF \"/content/requirements-to-us/main.ipynb\""
      ],
      "metadata": {
        "id": "P3CMQER80SNV"
      },
      "execution_count": null,
      "outputs": []
    },
    {
      "cell_type": "code",
      "source": [],
      "metadata": {
        "id": "azInBWYG58io"
      },
      "execution_count": null,
      "outputs": []
    }
  ]
}