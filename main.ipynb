{
  "nbformat": 4,
  "nbformat_minor": 0,
  "metadata": {
    "colab": {
      "provenance": [],
      "gpuType": "A100",
      "machine_shape": "hm",
      "authorship_tag": "ABX9TyO7ivG3ztVjvFLiv2ymNk4d"
    },
    "kernelspec": {
      "name": "python3",
      "display_name": "Python 3"
    },
    "language_info": {
      "name": "python"
    },
    "accelerator": "GPU",
    "widgets": {
      "application/vnd.jupyter.widget-state+json": {
        "45d806ab6f894ab59a132f6894550b56": {
          "model_module": "@jupyter-widgets/controls",
          "model_name": "VBoxModel",
          "model_module_version": "1.5.0",
          "state": {
            "_dom_classes": [],
            "_model_module": "@jupyter-widgets/controls",
            "_model_module_version": "1.5.0",
            "_model_name": "VBoxModel",
            "_view_count": null,
            "_view_module": "@jupyter-widgets/controls",
            "_view_module_version": "1.5.0",
            "_view_name": "VBoxView",
            "box_style": "",
            "children": [],
            "layout": "IPY_MODEL_4552df8a965445f6baa05dd99cb81718"
          }
        },
        "ed679907ef6b452fbfcea9f8f8f43ed1": {
          "model_module": "@jupyter-widgets/controls",
          "model_name": "HTMLModel",
          "model_module_version": "1.5.0",
          "state": {
            "_dom_classes": [],
            "_model_module": "@jupyter-widgets/controls",
            "_model_module_version": "1.5.0",
            "_model_name": "HTMLModel",
            "_view_count": null,
            "_view_module": "@jupyter-widgets/controls",
            "_view_module_version": "1.5.0",
            "_view_name": "HTMLView",
            "description": "",
            "description_tooltip": null,
            "layout": "IPY_MODEL_e681174a139a4cee95acd1e487ee51b0",
            "placeholder": "​",
            "style": "IPY_MODEL_c0547f01ade849afa4b0a29fa1f93969",
            "value": "<center> <img\nsrc=https://huggingface.co/front/assets/huggingface_logo-noborder.svg\nalt='Hugging Face'> <br> Copy a token from <a\nhref=\"https://huggingface.co/settings/tokens\" target=\"_blank\">your Hugging Face\ntokens page</a> and paste it below. <br> Immediately click login after copying\nyour token or it might be stored in plain text in this notebook file. </center>"
          }
        },
        "b998f7015cf6441c9095c0f1715273c8": {
          "model_module": "@jupyter-widgets/controls",
          "model_name": "PasswordModel",
          "model_module_version": "1.5.0",
          "state": {
            "_dom_classes": [],
            "_model_module": "@jupyter-widgets/controls",
            "_model_module_version": "1.5.0",
            "_model_name": "PasswordModel",
            "_view_count": null,
            "_view_module": "@jupyter-widgets/controls",
            "_view_module_version": "1.5.0",
            "_view_name": "PasswordView",
            "continuous_update": true,
            "description": "Token:",
            "description_tooltip": null,
            "disabled": false,
            "layout": "IPY_MODEL_0b2d678bf21347b9b248ea839794d4d4",
            "placeholder": "​",
            "style": "IPY_MODEL_86d94f47d2f347259e285ba320de5b87",
            "value": ""
          }
        },
        "a381d39341cc4127930556afb526e8d5": {
          "model_module": "@jupyter-widgets/controls",
          "model_name": "CheckboxModel",
          "model_module_version": "1.5.0",
          "state": {
            "_dom_classes": [],
            "_model_module": "@jupyter-widgets/controls",
            "_model_module_version": "1.5.0",
            "_model_name": "CheckboxModel",
            "_view_count": null,
            "_view_module": "@jupyter-widgets/controls",
            "_view_module_version": "1.5.0",
            "_view_name": "CheckboxView",
            "description": "Add token as git credential?",
            "description_tooltip": null,
            "disabled": false,
            "indent": true,
            "layout": "IPY_MODEL_796f7f16c0f642c3b8df40a806493535",
            "style": "IPY_MODEL_14c60e6917eb4b109dc640ad69c36f0d",
            "value": true
          }
        },
        "4736c1c26e1a4c58b29405c15b90699e": {
          "model_module": "@jupyter-widgets/controls",
          "model_name": "ButtonModel",
          "model_module_version": "1.5.0",
          "state": {
            "_dom_classes": [],
            "_model_module": "@jupyter-widgets/controls",
            "_model_module_version": "1.5.0",
            "_model_name": "ButtonModel",
            "_view_count": null,
            "_view_module": "@jupyter-widgets/controls",
            "_view_module_version": "1.5.0",
            "_view_name": "ButtonView",
            "button_style": "",
            "description": "Login",
            "disabled": false,
            "icon": "",
            "layout": "IPY_MODEL_6a31b63c825e435194487f83aa12aca0",
            "style": "IPY_MODEL_831858ecf47f4d388ebb846412dbd26b",
            "tooltip": ""
          }
        },
        "493ccb2c3c16478c8d21e7000661ad7f": {
          "model_module": "@jupyter-widgets/controls",
          "model_name": "HTMLModel",
          "model_module_version": "1.5.0",
          "state": {
            "_dom_classes": [],
            "_model_module": "@jupyter-widgets/controls",
            "_model_module_version": "1.5.0",
            "_model_name": "HTMLModel",
            "_view_count": null,
            "_view_module": "@jupyter-widgets/controls",
            "_view_module_version": "1.5.0",
            "_view_name": "HTMLView",
            "description": "",
            "description_tooltip": null,
            "layout": "IPY_MODEL_e542bda3772c439ea5760383bccc5137",
            "placeholder": "​",
            "style": "IPY_MODEL_5abc0308b1004fe7b9265ea8c89a9114",
            "value": "\n<b>Pro Tip:</b> If you don't already have one, you can create a dedicated\n'notebooks' token with 'write' access, that you can then easily reuse for all\nnotebooks. </center>"
          }
        },
        "4552df8a965445f6baa05dd99cb81718": {
          "model_module": "@jupyter-widgets/base",
          "model_name": "LayoutModel",
          "model_module_version": "1.2.0",
          "state": {
            "_model_module": "@jupyter-widgets/base",
            "_model_module_version": "1.2.0",
            "_model_name": "LayoutModel",
            "_view_count": null,
            "_view_module": "@jupyter-widgets/base",
            "_view_module_version": "1.2.0",
            "_view_name": "LayoutView",
            "align_content": null,
            "align_items": "center",
            "align_self": null,
            "border": null,
            "bottom": null,
            "display": "flex",
            "flex": null,
            "flex_flow": "column",
            "grid_area": null,
            "grid_auto_columns": null,
            "grid_auto_flow": null,
            "grid_auto_rows": null,
            "grid_column": null,
            "grid_gap": null,
            "grid_row": null,
            "grid_template_areas": null,
            "grid_template_columns": null,
            "grid_template_rows": null,
            "height": null,
            "justify_content": null,
            "justify_items": null,
            "left": null,
            "margin": null,
            "max_height": null,
            "max_width": null,
            "min_height": null,
            "min_width": null,
            "object_fit": null,
            "object_position": null,
            "order": null,
            "overflow": null,
            "overflow_x": null,
            "overflow_y": null,
            "padding": null,
            "right": null,
            "top": null,
            "visibility": null,
            "width": "50%"
          }
        },
        "e681174a139a4cee95acd1e487ee51b0": {
          "model_module": "@jupyter-widgets/base",
          "model_name": "LayoutModel",
          "model_module_version": "1.2.0",
          "state": {
            "_model_module": "@jupyter-widgets/base",
            "_model_module_version": "1.2.0",
            "_model_name": "LayoutModel",
            "_view_count": null,
            "_view_module": "@jupyter-widgets/base",
            "_view_module_version": "1.2.0",
            "_view_name": "LayoutView",
            "align_content": null,
            "align_items": null,
            "align_self": null,
            "border": null,
            "bottom": null,
            "display": null,
            "flex": null,
            "flex_flow": null,
            "grid_area": null,
            "grid_auto_columns": null,
            "grid_auto_flow": null,
            "grid_auto_rows": null,
            "grid_column": null,
            "grid_gap": null,
            "grid_row": null,
            "grid_template_areas": null,
            "grid_template_columns": null,
            "grid_template_rows": null,
            "height": null,
            "justify_content": null,
            "justify_items": null,
            "left": null,
            "margin": null,
            "max_height": null,
            "max_width": null,
            "min_height": null,
            "min_width": null,
            "object_fit": null,
            "object_position": null,
            "order": null,
            "overflow": null,
            "overflow_x": null,
            "overflow_y": null,
            "padding": null,
            "right": null,
            "top": null,
            "visibility": null,
            "width": null
          }
        },
        "c0547f01ade849afa4b0a29fa1f93969": {
          "model_module": "@jupyter-widgets/controls",
          "model_name": "DescriptionStyleModel",
          "model_module_version": "1.5.0",
          "state": {
            "_model_module": "@jupyter-widgets/controls",
            "_model_module_version": "1.5.0",
            "_model_name": "DescriptionStyleModel",
            "_view_count": null,
            "_view_module": "@jupyter-widgets/base",
            "_view_module_version": "1.2.0",
            "_view_name": "StyleView",
            "description_width": ""
          }
        },
        "0b2d678bf21347b9b248ea839794d4d4": {
          "model_module": "@jupyter-widgets/base",
          "model_name": "LayoutModel",
          "model_module_version": "1.2.0",
          "state": {
            "_model_module": "@jupyter-widgets/base",
            "_model_module_version": "1.2.0",
            "_model_name": "LayoutModel",
            "_view_count": null,
            "_view_module": "@jupyter-widgets/base",
            "_view_module_version": "1.2.0",
            "_view_name": "LayoutView",
            "align_content": null,
            "align_items": null,
            "align_self": null,
            "border": null,
            "bottom": null,
            "display": null,
            "flex": null,
            "flex_flow": null,
            "grid_area": null,
            "grid_auto_columns": null,
            "grid_auto_flow": null,
            "grid_auto_rows": null,
            "grid_column": null,
            "grid_gap": null,
            "grid_row": null,
            "grid_template_areas": null,
            "grid_template_columns": null,
            "grid_template_rows": null,
            "height": null,
            "justify_content": null,
            "justify_items": null,
            "left": null,
            "margin": null,
            "max_height": null,
            "max_width": null,
            "min_height": null,
            "min_width": null,
            "object_fit": null,
            "object_position": null,
            "order": null,
            "overflow": null,
            "overflow_x": null,
            "overflow_y": null,
            "padding": null,
            "right": null,
            "top": null,
            "visibility": null,
            "width": null
          }
        },
        "86d94f47d2f347259e285ba320de5b87": {
          "model_module": "@jupyter-widgets/controls",
          "model_name": "DescriptionStyleModel",
          "model_module_version": "1.5.0",
          "state": {
            "_model_module": "@jupyter-widgets/controls",
            "_model_module_version": "1.5.0",
            "_model_name": "DescriptionStyleModel",
            "_view_count": null,
            "_view_module": "@jupyter-widgets/base",
            "_view_module_version": "1.2.0",
            "_view_name": "StyleView",
            "description_width": ""
          }
        },
        "796f7f16c0f642c3b8df40a806493535": {
          "model_module": "@jupyter-widgets/base",
          "model_name": "LayoutModel",
          "model_module_version": "1.2.0",
          "state": {
            "_model_module": "@jupyter-widgets/base",
            "_model_module_version": "1.2.0",
            "_model_name": "LayoutModel",
            "_view_count": null,
            "_view_module": "@jupyter-widgets/base",
            "_view_module_version": "1.2.0",
            "_view_name": "LayoutView",
            "align_content": null,
            "align_items": null,
            "align_self": null,
            "border": null,
            "bottom": null,
            "display": null,
            "flex": null,
            "flex_flow": null,
            "grid_area": null,
            "grid_auto_columns": null,
            "grid_auto_flow": null,
            "grid_auto_rows": null,
            "grid_column": null,
            "grid_gap": null,
            "grid_row": null,
            "grid_template_areas": null,
            "grid_template_columns": null,
            "grid_template_rows": null,
            "height": null,
            "justify_content": null,
            "justify_items": null,
            "left": null,
            "margin": null,
            "max_height": null,
            "max_width": null,
            "min_height": null,
            "min_width": null,
            "object_fit": null,
            "object_position": null,
            "order": null,
            "overflow": null,
            "overflow_x": null,
            "overflow_y": null,
            "padding": null,
            "right": null,
            "top": null,
            "visibility": null,
            "width": null
          }
        },
        "14c60e6917eb4b109dc640ad69c36f0d": {
          "model_module": "@jupyter-widgets/controls",
          "model_name": "DescriptionStyleModel",
          "model_module_version": "1.5.0",
          "state": {
            "_model_module": "@jupyter-widgets/controls",
            "_model_module_version": "1.5.0",
            "_model_name": "DescriptionStyleModel",
            "_view_count": null,
            "_view_module": "@jupyter-widgets/base",
            "_view_module_version": "1.2.0",
            "_view_name": "StyleView",
            "description_width": ""
          }
        },
        "6a31b63c825e435194487f83aa12aca0": {
          "model_module": "@jupyter-widgets/base",
          "model_name": "LayoutModel",
          "model_module_version": "1.2.0",
          "state": {
            "_model_module": "@jupyter-widgets/base",
            "_model_module_version": "1.2.0",
            "_model_name": "LayoutModel",
            "_view_count": null,
            "_view_module": "@jupyter-widgets/base",
            "_view_module_version": "1.2.0",
            "_view_name": "LayoutView",
            "align_content": null,
            "align_items": null,
            "align_self": null,
            "border": null,
            "bottom": null,
            "display": null,
            "flex": null,
            "flex_flow": null,
            "grid_area": null,
            "grid_auto_columns": null,
            "grid_auto_flow": null,
            "grid_auto_rows": null,
            "grid_column": null,
            "grid_gap": null,
            "grid_row": null,
            "grid_template_areas": null,
            "grid_template_columns": null,
            "grid_template_rows": null,
            "height": null,
            "justify_content": null,
            "justify_items": null,
            "left": null,
            "margin": null,
            "max_height": null,
            "max_width": null,
            "min_height": null,
            "min_width": null,
            "object_fit": null,
            "object_position": null,
            "order": null,
            "overflow": null,
            "overflow_x": null,
            "overflow_y": null,
            "padding": null,
            "right": null,
            "top": null,
            "visibility": null,
            "width": null
          }
        },
        "831858ecf47f4d388ebb846412dbd26b": {
          "model_module": "@jupyter-widgets/controls",
          "model_name": "ButtonStyleModel",
          "model_module_version": "1.5.0",
          "state": {
            "_model_module": "@jupyter-widgets/controls",
            "_model_module_version": "1.5.0",
            "_model_name": "ButtonStyleModel",
            "_view_count": null,
            "_view_module": "@jupyter-widgets/base",
            "_view_module_version": "1.2.0",
            "_view_name": "StyleView",
            "button_color": null,
            "font_weight": ""
          }
        },
        "e542bda3772c439ea5760383bccc5137": {
          "model_module": "@jupyter-widgets/base",
          "model_name": "LayoutModel",
          "model_module_version": "1.2.0",
          "state": {
            "_model_module": "@jupyter-widgets/base",
            "_model_module_version": "1.2.0",
            "_model_name": "LayoutModel",
            "_view_count": null,
            "_view_module": "@jupyter-widgets/base",
            "_view_module_version": "1.2.0",
            "_view_name": "LayoutView",
            "align_content": null,
            "align_items": null,
            "align_self": null,
            "border": null,
            "bottom": null,
            "display": null,
            "flex": null,
            "flex_flow": null,
            "grid_area": null,
            "grid_auto_columns": null,
            "grid_auto_flow": null,
            "grid_auto_rows": null,
            "grid_column": null,
            "grid_gap": null,
            "grid_row": null,
            "grid_template_areas": null,
            "grid_template_columns": null,
            "grid_template_rows": null,
            "height": null,
            "justify_content": null,
            "justify_items": null,
            "left": null,
            "margin": null,
            "max_height": null,
            "max_width": null,
            "min_height": null,
            "min_width": null,
            "object_fit": null,
            "object_position": null,
            "order": null,
            "overflow": null,
            "overflow_x": null,
            "overflow_y": null,
            "padding": null,
            "right": null,
            "top": null,
            "visibility": null,
            "width": null
          }
        },
        "5abc0308b1004fe7b9265ea8c89a9114": {
          "model_module": "@jupyter-widgets/controls",
          "model_name": "DescriptionStyleModel",
          "model_module_version": "1.5.0",
          "state": {
            "_model_module": "@jupyter-widgets/controls",
            "_model_module_version": "1.5.0",
            "_model_name": "DescriptionStyleModel",
            "_view_count": null,
            "_view_module": "@jupyter-widgets/base",
            "_view_module_version": "1.2.0",
            "_view_name": "StyleView",
            "description_width": ""
          }
        },
        "0b9593c6b95b47ceaebe5bd8318b7685": {
          "model_module": "@jupyter-widgets/controls",
          "model_name": "LabelModel",
          "model_module_version": "1.5.0",
          "state": {
            "_dom_classes": [],
            "_model_module": "@jupyter-widgets/controls",
            "_model_module_version": "1.5.0",
            "_model_name": "LabelModel",
            "_view_count": null,
            "_view_module": "@jupyter-widgets/controls",
            "_view_module_version": "1.5.0",
            "_view_name": "LabelView",
            "description": "",
            "description_tooltip": null,
            "layout": "IPY_MODEL_ead95a7a96a548aca2fa4a17239e1c11",
            "placeholder": "​",
            "style": "IPY_MODEL_6e45e276e658457a915ac09ae4479bed",
            "value": "Connecting..."
          }
        },
        "ead95a7a96a548aca2fa4a17239e1c11": {
          "model_module": "@jupyter-widgets/base",
          "model_name": "LayoutModel",
          "model_module_version": "1.2.0",
          "state": {
            "_model_module": "@jupyter-widgets/base",
            "_model_module_version": "1.2.0",
            "_model_name": "LayoutModel",
            "_view_count": null,
            "_view_module": "@jupyter-widgets/base",
            "_view_module_version": "1.2.0",
            "_view_name": "LayoutView",
            "align_content": null,
            "align_items": null,
            "align_self": null,
            "border": null,
            "bottom": null,
            "display": null,
            "flex": null,
            "flex_flow": null,
            "grid_area": null,
            "grid_auto_columns": null,
            "grid_auto_flow": null,
            "grid_auto_rows": null,
            "grid_column": null,
            "grid_gap": null,
            "grid_row": null,
            "grid_template_areas": null,
            "grid_template_columns": null,
            "grid_template_rows": null,
            "height": null,
            "justify_content": null,
            "justify_items": null,
            "left": null,
            "margin": null,
            "max_height": null,
            "max_width": null,
            "min_height": null,
            "min_width": null,
            "object_fit": null,
            "object_position": null,
            "order": null,
            "overflow": null,
            "overflow_x": null,
            "overflow_y": null,
            "padding": null,
            "right": null,
            "top": null,
            "visibility": null,
            "width": null
          }
        },
        "6e45e276e658457a915ac09ae4479bed": {
          "model_module": "@jupyter-widgets/controls",
          "model_name": "DescriptionStyleModel",
          "model_module_version": "1.5.0",
          "state": {
            "_model_module": "@jupyter-widgets/controls",
            "_model_module_version": "1.5.0",
            "_model_name": "DescriptionStyleModel",
            "_view_count": null,
            "_view_module": "@jupyter-widgets/base",
            "_view_module_version": "1.2.0",
            "_view_name": "StyleView",
            "description_width": ""
          }
        }
      }
    }
  },
  "cells": [
    {
      "cell_type": "code",
      "source": [
        "! apt-get install git\n",
        "! git clone https://github.com/joaorossi15/requirements-to-us.git\n",
        "! apt-get install texlive texlive-xetex texlive-latex-extra pandoc"
      ],
      "metadata": {
        "collapsed": true,
        "id": "z3-nVfP9WZPW"
      },
      "execution_count": null,
      "outputs": []
    },
    {
      "cell_type": "code",
      "source": [
        "! pip install langchain_community\n",
        "! pip install chromadb\n",
        "! pip install pypdf\n",
        "! pip install importmonkey\n",
        "! pip install optimum\n",
        "! pip install auto-gptq\n",
        "! pip install peft\n",
        "!pip install pypandoc"
      ],
      "metadata": {
        "id": "uWRuiL74lOq7",
        "collapsed": true
      },
      "execution_count": null,
      "outputs": []
    },
    {
      "cell_type": "code",
      "source": [
        "from importmonkey import add_path\n",
        "add_path(\"/content/requirements-to-us/\")\n",
        "import flow\n",
        "from rag.rag import generate_store"
      ],
      "metadata": {
        "id": "n-Im13JeR5lk"
      },
      "execution_count": 3,
      "outputs": []
    },
    {
      "cell_type": "markdown",
      "source": [
        "## Generate vector database using the domain specific knowledge documents"
      ],
      "metadata": {
        "id": "_FyZWGP-TEHx"
      }
    },
    {
      "cell_type": "code",
      "source": [
        "generate_store(\"./requirements-to-us/rag-data/\", \"./requirements-to-us/chroma/\")"
      ],
      "metadata": {
        "id": "TUZGqLiBTue9",
        "collapsed": true
      },
      "execution_count": null,
      "outputs": []
    },
    {
      "cell_type": "markdown",
      "source": [
        "### Create langchain pipeline to use the vector database and the model to generate the best response possible"
      ],
      "metadata": {
        "id": "btynC8HTTTaq"
      }
    },
    {
      "cell_type": "code",
      "source": [
        "from huggingface_hub import notebook_login\n",
        "notebook_login()"
      ],
      "metadata": {
        "collapsed": true,
        "id": "WF3jJueNCTzo",
        "colab": {
          "base_uri": "https://localhost:8080/",
          "height": 17,
          "referenced_widgets": [
            "45d806ab6f894ab59a132f6894550b56",
            "ed679907ef6b452fbfcea9f8f8f43ed1",
            "b998f7015cf6441c9095c0f1715273c8",
            "a381d39341cc4127930556afb526e8d5",
            "4736c1c26e1a4c58b29405c15b90699e",
            "493ccb2c3c16478c8d21e7000661ad7f",
            "4552df8a965445f6baa05dd99cb81718",
            "e681174a139a4cee95acd1e487ee51b0",
            "c0547f01ade849afa4b0a29fa1f93969",
            "0b2d678bf21347b9b248ea839794d4d4",
            "86d94f47d2f347259e285ba320de5b87",
            "796f7f16c0f642c3b8df40a806493535",
            "14c60e6917eb4b109dc640ad69c36f0d",
            "6a31b63c825e435194487f83aa12aca0",
            "831858ecf47f4d388ebb846412dbd26b",
            "e542bda3772c439ea5760383bccc5137",
            "5abc0308b1004fe7b9265ea8c89a9114",
            "0b9593c6b95b47ceaebe5bd8318b7685",
            "ead95a7a96a548aca2fa4a17239e1c11",
            "6e45e276e658457a915ac09ae4479bed"
          ]
        },
        "outputId": "0241086f-15f8-471e-e761-5cbdc2d73c83"
      },
      "execution_count": 5,
      "outputs": [
        {
          "output_type": "display_data",
          "data": {
            "text/plain": [
              "VBox(children=(HTML(value='<center> <img\\nsrc=https://huggingface.co/front/assets/huggingface_logo-noborder.sv…"
            ],
            "application/vnd.jupyter.widget-view+json": {
              "version_major": 2,
              "version_minor": 0,
              "model_id": "45d806ab6f894ab59a132f6894550b56"
            }
          },
          "metadata": {}
        }
      ]
    },
    {
      "cell_type": "code",
      "source": [
        "chain = flow.model_rag(persist_path=\"./requirements-to-us/chroma/\")"
      ],
      "metadata": {
        "id": "7SsM6LbCKJID",
        "collapsed": true
      },
      "execution_count": null,
      "outputs": []
    },
    {
      "cell_type": "code",
      "source": [
        "query = [\"The AI should not make decisions without user consent\"]\n",
        "query.append(\"The system should be transparent with how and where the training and testing data were gathered\")\n",
        "query.append(\"Develop robust APIs or web-scraping modules to gather Amazon product data, including prices, descriptions, customer reviews, ratings, and stock levels.\")\n",
        "query.append(\"Implement advanced NLP algorithms to extract insights, detect sentiment, and identify key themes or common complaints from customer reviews\")\n",
        "query.append(\"Develop predictive analytics to forecast stock levels and avoid overstocking or stockouts, improving supply chain efficiency.\")\n",
        "\n",
        "c = []\n",
        "for q in query:\n",
        "    c.append(chain.invoke(q))"
      ],
      "metadata": {
        "id": "ZgPJLNJ4-WkT",
        "collapsed": true
      },
      "execution_count": null,
      "outputs": []
    },
    {
      "cell_type": "markdown",
      "source": [
        "### Response generated"
      ],
      "metadata": {
        "id": "-V-R5YGHTh6n"
      }
    },
    {
      "cell_type": "code",
      "source": [
        "import re\n",
        "\n",
        "for e in c:\n",
        "    s = ''.join(e['text'].split('[/INST]')[1])\n",
        "    strlist = re.split('(?<=\\D)(?=\\d)', s)\n",
        "    strlist = ''.join(strlist[:-1])\n",
        "    strlist = re.sub(r'- .*Criteria', '- ', strlist)\n",
        "    print(strlist)\n",
        "    print()\n",
        "    print()"
      ],
      "metadata": {
        "colab": {
          "base_uri": "https://localhost:8080/"
        },
        "id": "dRtazqcWESHo",
        "outputId": "29df3b40-decd-4910-844d-e116366918a7"
      },
      "execution_count": 11,
      "outputs": [
        {
          "output_type": "stream",
          "name": "stdout",
          "text": [
            "\n",
            "     Title: User Consent for Decision Making\n",
            "     Description: As a responsible user, I want the AI to obtain my explicit consent before making any decisions affecting me so that my autonomy and self-determination are respected and protected.\n",
            "     Work:\n",
            "     1. Implement a mechanism for obtaining user consent prior to the AI making any decisions that affect the user's life.\n",
            "     2. Ensure that the consent process is clear, understandable, and accessible to all users, including those who may be vulnerable or less tech-savvy.\n",
            "     3. Develop a notification system that informs users whenever the AI is about to make a decision requiring their consent.\n",
            "     \n",
            "\n",
            "\n",
            "\n",
            "     Title: Transparent Data Provenance\n",
            "     Description: As a user, I want to know how and where the training and testing data were gathered so that I can understand the origins and quality of the data used in the AI system.\n",
            "     Work:\n",
            "     1. The system must provide detailed documentation explaining the methods used to gather the training and testing data.\n",
            "     2. The documentation should include information about the sources of the data, such as databases, surveys, or public records.\n",
            "     3. The system should clearly state any data preprocessing steps applied to the raw data before training or testing.\n",
            "     \n",
            "\n",
            "\n",
            "\n",
            "     Title: Ethical Gathering of Amazon Product Data\n",
            "     Description: As a data analyst, I want to develop robust APIs or web-scraping modules to gather Amazon product data, including prices, descriptions, customer reviews, ratings, and stock levels, so that the data can be analyzed ethically and responsibly while ensuring transparency and compliance with privacy regulations.\n",
            "     Work:\n",
            "     1. Ensure the API or web-scraping module complies with Amazon's terms of service and any applicable laws regarding data collection.\n",
            "     2. Implement measures to protect user privacy by anonymizing personal data collected from customer reviews.\n",
            "     \n",
            "\n",
            "\n",
            "\n",
            "     Title: Enhanced Transparency in Customer Review Analysis\n",
            "     Description: As a data analyst, I want to implement advanced NLP algorithms to extract insights, detect sentiment, and identify key themes or common complaints from customer reviews so that the decision-making process is transparent and comprehensible to stakeholders.\n",
            "     Work:\n",
            "     1. Develop and integrate advanced NLP algorithms capable of processing large volumes of customer reviews.\n",
            "     2. Ensure the extracted insights are presented in a clear and understandable manner for non-technical stakeholders.\n",
            "     3. Implement monitoring mechanisms to track the data, algorithms, and decisions made by the NLP system.\n",
            "     \n",
            "\n",
            "\n",
            "\n",
            "     Title: Enhancing Supply Chain Efficiency through Predictive Analytics\n",
            "     Description: As a Supply Chain Manager, I want to utilize predictive analytics to forecast stock levels so that we can optimize our inventory management and reduce instances of overstocking or stockouts.\n",
            "     Work:\n",
            "     1. Implement a system capable of analyzing historical sales data and market trends to accurately predict future stock demands.\n",
            "     2. Ensure the predictive model takes into account factors affecting supply chain efficiency, such as transportation costs, lead times, and seasonal fluctuations.\n",
            "     \n",
            "\n",
            "\n"
          ]
        }
      ]
    },
    {
      "cell_type": "markdown",
      "source": [
        "### Documents used for context"
      ],
      "metadata": {
        "id": "iZEkq8G_Tjwh"
      }
    },
    {
      "cell_type": "code",
      "source": [
        "c[0]['context']"
      ],
      "metadata": {
        "colab": {
          "base_uri": "https://localhost:8080/"
        },
        "id": "DBgyNZ_7385z",
        "outputId": "1ec6e013-5031-4663-88a8-2e23a11a8b4a"
      },
      "execution_count": 14,
      "outputs": [
        {
          "output_type": "execute_result",
          "data": {
            "text/plain": [
              "[Document(metadata={'page': 13, 'source': 'requirements-to-us/rag-data/ryan.pdf'}, page_content='reasonable expectations and consent of the individuals but must also be used for legitimate\\npurposes (Future Advocacy, 2019).\\n4.7.4 Choice. AI should protect users’ power to decide about decisions in their lives\\n(Floridi et al., 2018). AI should not “compromise human freedom and autonomy by\\nillegitimately and surreptitiously reducing options for and knowledge of citizens” (European\\nGroup on Ethics in Science and New Technologies, 2018,p .1 7 ) .'),\n",
              " Document(metadata={'page': 12, 'source': 'requirements-to-us/rag-data/ryan.pdf'}, page_content='ensure that individuals consent to how their data is being used, AI should not harm\\nindividuals’abilities to make choices, or manipulate their self-determination.\\n4.7.1 Freedom.Developers should acknowledge, identify and ameliorate circumstances\\nwhere AI may create harm against human freedoms. Organisations should ensure that the\\nend users’freedoms are not infringed upon during the use of AI (High-Level Expert Group'),\n",
              " Document(metadata={'page': 13, 'source': 'requirements-to-us/rag-data/ryan.pdf'}, page_content='Group on Ethics in Science and New Technologies, 2018,p .1 7 ) .\\n4.7.5 Self-determination. There needs to be a balance between decision-making power\\nthat is freely given by the user to the autonomous systems and when this option is taken\\naway or undermined by the system (Floridi et al.,2 0 1 8). AI organisations should not\\nmanipulate individual’s self-determination, particularly those who may be vulnerable to\\nabuse (Rathenau Institute, 2017,p .2 6 ) .'),\n",
              " Document(metadata={'page': 13, 'source': 'requirements-to-us/rag-data/ryan.pdf'}, page_content='to the system’s functionality” (High-Level Expert Group on AI, 2019, p. 16). Users should be\\ninformed actors and have control over their decisions when interacting with AI (Council of\\nEurope, 2019).\\n4.7.3 Consent. The use of personal data must be clearly articulated and agreed upon\\nbefore its use (UNDG, 2017). If personal data is repurposed, developers should ensure that it\\nis compatible with the original fair processing requirements when consent is given (ICO,')]"
            ]
          },
          "metadata": {},
          "execution_count": 14
        }
      ]
    },
    {
      "cell_type": "markdown",
      "source": [
        "### Generate PDF"
      ],
      "metadata": {
        "id": "PNMO8KoI12I2"
      }
    },
    {
      "cell_type": "code",
      "source": [
        "from google.colab import drive\n",
        "drive.mount('/content/drive')"
      ],
      "metadata": {
        "collapsed": true,
        "colab": {
          "base_uri": "https://localhost:8080/"
        },
        "id": "6kgymSqHz7Rs",
        "outputId": "bf93cc40-1a07-4916-8119-c8ce18b2a672"
      },
      "execution_count": 12,
      "outputs": [
        {
          "output_type": "stream",
          "name": "stdout",
          "text": [
            "Mounted at /content/drive\n"
          ]
        }
      ]
    },
    {
      "cell_type": "code",
      "source": [
        "!jupyter nbconvert --to PDF \"/content/requirements-to-us/main.ipynb\""
      ],
      "metadata": {
        "colab": {
          "base_uri": "https://localhost:8080/"
        },
        "id": "P3CMQER80SNV",
        "outputId": "8c05b2f8-0575-4511-8cd8-53648c71766f"
      },
      "execution_count": 19,
      "outputs": [
        {
          "output_type": "stream",
          "name": "stdout",
          "text": [
            "[NbConvertApp] Converting notebook /content/requirements-to-us/main.ipynb to PDF\n",
            "[NbConvertApp] Writing 32891 bytes to notebook.tex\n",
            "[NbConvertApp] Building PDF\n",
            "[NbConvertApp] Running xelatex 3 times: ['xelatex', 'notebook.tex', '-quiet']\n",
            "[NbConvertApp] Running bibtex 1 time: ['bibtex', 'notebook']\n",
            "[NbConvertApp] WARNING | bibtex had problems, most likely because there were no citations\n",
            "[NbConvertApp] PDF successfully created\n",
            "[NbConvertApp] Writing 38123 bytes to /content/requirements-to-us/main.pdf\n"
          ]
        }
      ]
    },
    {
      "cell_type": "code",
      "source": [],
      "metadata": {
        "id": "azInBWYG58io"
      },
      "execution_count": null,
      "outputs": []
    }
  ]
}