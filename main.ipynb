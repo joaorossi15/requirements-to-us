{
  "nbformat": 4,
  "nbformat_minor": 0,
  "metadata": {
    "colab": {
      "provenance": [],
      "gpuType": "A100",
      "machine_shape": "hm",
      "authorship_tag": "ABX9TyObBv/3WZKcD50of9XkWgWy"
    },
    "kernelspec": {
      "name": "python3",
      "display_name": "Python 3"
    },
    "language_info": {
      "name": "python"
    },
    "accelerator": "GPU",
    "widgets": {
      "application/vnd.jupyter.widget-state+json": {
        "27f719e6e4324697b2725eb01dd7f23b": {
          "model_module": "@jupyter-widgets/controls",
          "model_name": "VBoxModel",
          "model_module_version": "1.5.0",
          "state": {
            "_dom_classes": [],
            "_model_module": "@jupyter-widgets/controls",
            "_model_module_version": "1.5.0",
            "_model_name": "VBoxModel",
            "_view_count": null,
            "_view_module": "@jupyter-widgets/controls",
            "_view_module_version": "1.5.0",
            "_view_name": "VBoxView",
            "box_style": "",
            "children": [],
            "layout": "IPY_MODEL_286ebdc315ce46ac9b0fd75f1dc8088d"
          }
        },
        "6f8b02f15ff7433d92d8213cf9cb172e": {
          "model_module": "@jupyter-widgets/controls",
          "model_name": "HTMLModel",
          "model_module_version": "1.5.0",
          "state": {
            "_dom_classes": [],
            "_model_module": "@jupyter-widgets/controls",
            "_model_module_version": "1.5.0",
            "_model_name": "HTMLModel",
            "_view_count": null,
            "_view_module": "@jupyter-widgets/controls",
            "_view_module_version": "1.5.0",
            "_view_name": "HTMLView",
            "description": "",
            "description_tooltip": null,
            "layout": "IPY_MODEL_b59ab0fc00264ae48008b6c56eb3afde",
            "placeholder": "​",
            "style": "IPY_MODEL_3d57ce38aac447db911219a476f0c330",
            "value": "<center> <img\nsrc=https://huggingface.co/front/assets/huggingface_logo-noborder.svg\nalt='Hugging Face'> <br> Copy a token from <a\nhref=\"https://huggingface.co/settings/tokens\" target=\"_blank\">your Hugging Face\ntokens page</a> and paste it below. <br> Immediately click login after copying\nyour token or it might be stored in plain text in this notebook file. </center>"
          }
        },
        "6174a8ad11e344f5b612640cf3af1f12": {
          "model_module": "@jupyter-widgets/controls",
          "model_name": "PasswordModel",
          "model_module_version": "1.5.0",
          "state": {
            "_dom_classes": [],
            "_model_module": "@jupyter-widgets/controls",
            "_model_module_version": "1.5.0",
            "_model_name": "PasswordModel",
            "_view_count": null,
            "_view_module": "@jupyter-widgets/controls",
            "_view_module_version": "1.5.0",
            "_view_name": "PasswordView",
            "continuous_update": true,
            "description": "Token:",
            "description_tooltip": null,
            "disabled": false,
            "layout": "IPY_MODEL_6c1b7b27b0e34a3f903c832dbdcf922e",
            "placeholder": "​",
            "style": "IPY_MODEL_2886ad252da84283a1961273edf8a370",
            "value": ""
          }
        },
        "ae9c00d35244455691e6d7ac7b66bacc": {
          "model_module": "@jupyter-widgets/controls",
          "model_name": "CheckboxModel",
          "model_module_version": "1.5.0",
          "state": {
            "_dom_classes": [],
            "_model_module": "@jupyter-widgets/controls",
            "_model_module_version": "1.5.0",
            "_model_name": "CheckboxModel",
            "_view_count": null,
            "_view_module": "@jupyter-widgets/controls",
            "_view_module_version": "1.5.0",
            "_view_name": "CheckboxView",
            "description": "Add token as git credential?",
            "description_tooltip": null,
            "disabled": false,
            "indent": true,
            "layout": "IPY_MODEL_013d9d5f42ab44c988b6035d96e33a5b",
            "style": "IPY_MODEL_6ff90460b25b465d89dd8f5cd5e2fbd8",
            "value": true
          }
        },
        "fb8b629a300245c9811be1c8c015b2f6": {
          "model_module": "@jupyter-widgets/controls",
          "model_name": "ButtonModel",
          "model_module_version": "1.5.0",
          "state": {
            "_dom_classes": [],
            "_model_module": "@jupyter-widgets/controls",
            "_model_module_version": "1.5.0",
            "_model_name": "ButtonModel",
            "_view_count": null,
            "_view_module": "@jupyter-widgets/controls",
            "_view_module_version": "1.5.0",
            "_view_name": "ButtonView",
            "button_style": "",
            "description": "Login",
            "disabled": false,
            "icon": "",
            "layout": "IPY_MODEL_9df56d5b99f246a8b0063954796d7cf4",
            "style": "IPY_MODEL_7aa5cc3f126f47e292f3cea1ec5b4196",
            "tooltip": ""
          }
        },
        "aece55dc0b974d319c00be6af9a6950d": {
          "model_module": "@jupyter-widgets/controls",
          "model_name": "HTMLModel",
          "model_module_version": "1.5.0",
          "state": {
            "_dom_classes": [],
            "_model_module": "@jupyter-widgets/controls",
            "_model_module_version": "1.5.0",
            "_model_name": "HTMLModel",
            "_view_count": null,
            "_view_module": "@jupyter-widgets/controls",
            "_view_module_version": "1.5.0",
            "_view_name": "HTMLView",
            "description": "",
            "description_tooltip": null,
            "layout": "IPY_MODEL_da53fad6ef0f467f96e8f53147c8e8fd",
            "placeholder": "​",
            "style": "IPY_MODEL_3e6f33f96fb949af88963694c03f6e5f",
            "value": "\n<b>Pro Tip:</b> If you don't already have one, you can create a dedicated\n'notebooks' token with 'write' access, that you can then easily reuse for all\nnotebooks. </center>"
          }
        },
        "286ebdc315ce46ac9b0fd75f1dc8088d": {
          "model_module": "@jupyter-widgets/base",
          "model_name": "LayoutModel",
          "model_module_version": "1.2.0",
          "state": {
            "_model_module": "@jupyter-widgets/base",
            "_model_module_version": "1.2.0",
            "_model_name": "LayoutModel",
            "_view_count": null,
            "_view_module": "@jupyter-widgets/base",
            "_view_module_version": "1.2.0",
            "_view_name": "LayoutView",
            "align_content": null,
            "align_items": "center",
            "align_self": null,
            "border": null,
            "bottom": null,
            "display": "flex",
            "flex": null,
            "flex_flow": "column",
            "grid_area": null,
            "grid_auto_columns": null,
            "grid_auto_flow": null,
            "grid_auto_rows": null,
            "grid_column": null,
            "grid_gap": null,
            "grid_row": null,
            "grid_template_areas": null,
            "grid_template_columns": null,
            "grid_template_rows": null,
            "height": null,
            "justify_content": null,
            "justify_items": null,
            "left": null,
            "margin": null,
            "max_height": null,
            "max_width": null,
            "min_height": null,
            "min_width": null,
            "object_fit": null,
            "object_position": null,
            "order": null,
            "overflow": null,
            "overflow_x": null,
            "overflow_y": null,
            "padding": null,
            "right": null,
            "top": null,
            "visibility": null,
            "width": "50%"
          }
        },
        "b59ab0fc00264ae48008b6c56eb3afde": {
          "model_module": "@jupyter-widgets/base",
          "model_name": "LayoutModel",
          "model_module_version": "1.2.0",
          "state": {
            "_model_module": "@jupyter-widgets/base",
            "_model_module_version": "1.2.0",
            "_model_name": "LayoutModel",
            "_view_count": null,
            "_view_module": "@jupyter-widgets/base",
            "_view_module_version": "1.2.0",
            "_view_name": "LayoutView",
            "align_content": null,
            "align_items": null,
            "align_self": null,
            "border": null,
            "bottom": null,
            "display": null,
            "flex": null,
            "flex_flow": null,
            "grid_area": null,
            "grid_auto_columns": null,
            "grid_auto_flow": null,
            "grid_auto_rows": null,
            "grid_column": null,
            "grid_gap": null,
            "grid_row": null,
            "grid_template_areas": null,
            "grid_template_columns": null,
            "grid_template_rows": null,
            "height": null,
            "justify_content": null,
            "justify_items": null,
            "left": null,
            "margin": null,
            "max_height": null,
            "max_width": null,
            "min_height": null,
            "min_width": null,
            "object_fit": null,
            "object_position": null,
            "order": null,
            "overflow": null,
            "overflow_x": null,
            "overflow_y": null,
            "padding": null,
            "right": null,
            "top": null,
            "visibility": null,
            "width": null
          }
        },
        "3d57ce38aac447db911219a476f0c330": {
          "model_module": "@jupyter-widgets/controls",
          "model_name": "DescriptionStyleModel",
          "model_module_version": "1.5.0",
          "state": {
            "_model_module": "@jupyter-widgets/controls",
            "_model_module_version": "1.5.0",
            "_model_name": "DescriptionStyleModel",
            "_view_count": null,
            "_view_module": "@jupyter-widgets/base",
            "_view_module_version": "1.2.0",
            "_view_name": "StyleView",
            "description_width": ""
          }
        },
        "6c1b7b27b0e34a3f903c832dbdcf922e": {
          "model_module": "@jupyter-widgets/base",
          "model_name": "LayoutModel",
          "model_module_version": "1.2.0",
          "state": {
            "_model_module": "@jupyter-widgets/base",
            "_model_module_version": "1.2.0",
            "_model_name": "LayoutModel",
            "_view_count": null,
            "_view_module": "@jupyter-widgets/base",
            "_view_module_version": "1.2.0",
            "_view_name": "LayoutView",
            "align_content": null,
            "align_items": null,
            "align_self": null,
            "border": null,
            "bottom": null,
            "display": null,
            "flex": null,
            "flex_flow": null,
            "grid_area": null,
            "grid_auto_columns": null,
            "grid_auto_flow": null,
            "grid_auto_rows": null,
            "grid_column": null,
            "grid_gap": null,
            "grid_row": null,
            "grid_template_areas": null,
            "grid_template_columns": null,
            "grid_template_rows": null,
            "height": null,
            "justify_content": null,
            "justify_items": null,
            "left": null,
            "margin": null,
            "max_height": null,
            "max_width": null,
            "min_height": null,
            "min_width": null,
            "object_fit": null,
            "object_position": null,
            "order": null,
            "overflow": null,
            "overflow_x": null,
            "overflow_y": null,
            "padding": null,
            "right": null,
            "top": null,
            "visibility": null,
            "width": null
          }
        },
        "2886ad252da84283a1961273edf8a370": {
          "model_module": "@jupyter-widgets/controls",
          "model_name": "DescriptionStyleModel",
          "model_module_version": "1.5.0",
          "state": {
            "_model_module": "@jupyter-widgets/controls",
            "_model_module_version": "1.5.0",
            "_model_name": "DescriptionStyleModel",
            "_view_count": null,
            "_view_module": "@jupyter-widgets/base",
            "_view_module_version": "1.2.0",
            "_view_name": "StyleView",
            "description_width": ""
          }
        },
        "013d9d5f42ab44c988b6035d96e33a5b": {
          "model_module": "@jupyter-widgets/base",
          "model_name": "LayoutModel",
          "model_module_version": "1.2.0",
          "state": {
            "_model_module": "@jupyter-widgets/base",
            "_model_module_version": "1.2.0",
            "_model_name": "LayoutModel",
            "_view_count": null,
            "_view_module": "@jupyter-widgets/base",
            "_view_module_version": "1.2.0",
            "_view_name": "LayoutView",
            "align_content": null,
            "align_items": null,
            "align_self": null,
            "border": null,
            "bottom": null,
            "display": null,
            "flex": null,
            "flex_flow": null,
            "grid_area": null,
            "grid_auto_columns": null,
            "grid_auto_flow": null,
            "grid_auto_rows": null,
            "grid_column": null,
            "grid_gap": null,
            "grid_row": null,
            "grid_template_areas": null,
            "grid_template_columns": null,
            "grid_template_rows": null,
            "height": null,
            "justify_content": null,
            "justify_items": null,
            "left": null,
            "margin": null,
            "max_height": null,
            "max_width": null,
            "min_height": null,
            "min_width": null,
            "object_fit": null,
            "object_position": null,
            "order": null,
            "overflow": null,
            "overflow_x": null,
            "overflow_y": null,
            "padding": null,
            "right": null,
            "top": null,
            "visibility": null,
            "width": null
          }
        },
        "6ff90460b25b465d89dd8f5cd5e2fbd8": {
          "model_module": "@jupyter-widgets/controls",
          "model_name": "DescriptionStyleModel",
          "model_module_version": "1.5.0",
          "state": {
            "_model_module": "@jupyter-widgets/controls",
            "_model_module_version": "1.5.0",
            "_model_name": "DescriptionStyleModel",
            "_view_count": null,
            "_view_module": "@jupyter-widgets/base",
            "_view_module_version": "1.2.0",
            "_view_name": "StyleView",
            "description_width": ""
          }
        },
        "9df56d5b99f246a8b0063954796d7cf4": {
          "model_module": "@jupyter-widgets/base",
          "model_name": "LayoutModel",
          "model_module_version": "1.2.0",
          "state": {
            "_model_module": "@jupyter-widgets/base",
            "_model_module_version": "1.2.0",
            "_model_name": "LayoutModel",
            "_view_count": null,
            "_view_module": "@jupyter-widgets/base",
            "_view_module_version": "1.2.0",
            "_view_name": "LayoutView",
            "align_content": null,
            "align_items": null,
            "align_self": null,
            "border": null,
            "bottom": null,
            "display": null,
            "flex": null,
            "flex_flow": null,
            "grid_area": null,
            "grid_auto_columns": null,
            "grid_auto_flow": null,
            "grid_auto_rows": null,
            "grid_column": null,
            "grid_gap": null,
            "grid_row": null,
            "grid_template_areas": null,
            "grid_template_columns": null,
            "grid_template_rows": null,
            "height": null,
            "justify_content": null,
            "justify_items": null,
            "left": null,
            "margin": null,
            "max_height": null,
            "max_width": null,
            "min_height": null,
            "min_width": null,
            "object_fit": null,
            "object_position": null,
            "order": null,
            "overflow": null,
            "overflow_x": null,
            "overflow_y": null,
            "padding": null,
            "right": null,
            "top": null,
            "visibility": null,
            "width": null
          }
        },
        "7aa5cc3f126f47e292f3cea1ec5b4196": {
          "model_module": "@jupyter-widgets/controls",
          "model_name": "ButtonStyleModel",
          "model_module_version": "1.5.0",
          "state": {
            "_model_module": "@jupyter-widgets/controls",
            "_model_module_version": "1.5.0",
            "_model_name": "ButtonStyleModel",
            "_view_count": null,
            "_view_module": "@jupyter-widgets/base",
            "_view_module_version": "1.2.0",
            "_view_name": "StyleView",
            "button_color": null,
            "font_weight": ""
          }
        },
        "da53fad6ef0f467f96e8f53147c8e8fd": {
          "model_module": "@jupyter-widgets/base",
          "model_name": "LayoutModel",
          "model_module_version": "1.2.0",
          "state": {
            "_model_module": "@jupyter-widgets/base",
            "_model_module_version": "1.2.0",
            "_model_name": "LayoutModel",
            "_view_count": null,
            "_view_module": "@jupyter-widgets/base",
            "_view_module_version": "1.2.0",
            "_view_name": "LayoutView",
            "align_content": null,
            "align_items": null,
            "align_self": null,
            "border": null,
            "bottom": null,
            "display": null,
            "flex": null,
            "flex_flow": null,
            "grid_area": null,
            "grid_auto_columns": null,
            "grid_auto_flow": null,
            "grid_auto_rows": null,
            "grid_column": null,
            "grid_gap": null,
            "grid_row": null,
            "grid_template_areas": null,
            "grid_template_columns": null,
            "grid_template_rows": null,
            "height": null,
            "justify_content": null,
            "justify_items": null,
            "left": null,
            "margin": null,
            "max_height": null,
            "max_width": null,
            "min_height": null,
            "min_width": null,
            "object_fit": null,
            "object_position": null,
            "order": null,
            "overflow": null,
            "overflow_x": null,
            "overflow_y": null,
            "padding": null,
            "right": null,
            "top": null,
            "visibility": null,
            "width": null
          }
        },
        "3e6f33f96fb949af88963694c03f6e5f": {
          "model_module": "@jupyter-widgets/controls",
          "model_name": "DescriptionStyleModel",
          "model_module_version": "1.5.0",
          "state": {
            "_model_module": "@jupyter-widgets/controls",
            "_model_module_version": "1.5.0",
            "_model_name": "DescriptionStyleModel",
            "_view_count": null,
            "_view_module": "@jupyter-widgets/base",
            "_view_module_version": "1.2.0",
            "_view_name": "StyleView",
            "description_width": ""
          }
        },
        "c0796e075fd1498f9dba439a9a22b198": {
          "model_module": "@jupyter-widgets/controls",
          "model_name": "LabelModel",
          "model_module_version": "1.5.0",
          "state": {
            "_dom_classes": [],
            "_model_module": "@jupyter-widgets/controls",
            "_model_module_version": "1.5.0",
            "_model_name": "LabelModel",
            "_view_count": null,
            "_view_module": "@jupyter-widgets/controls",
            "_view_module_version": "1.5.0",
            "_view_name": "LabelView",
            "description": "",
            "description_tooltip": null,
            "layout": "IPY_MODEL_b16d0f89d4b445bea2f4440904f8a187",
            "placeholder": "​",
            "style": "IPY_MODEL_8b8888c0e06a45b7b6e6dcfd5d91f5d5",
            "value": "Connecting..."
          }
        },
        "b16d0f89d4b445bea2f4440904f8a187": {
          "model_module": "@jupyter-widgets/base",
          "model_name": "LayoutModel",
          "model_module_version": "1.2.0",
          "state": {
            "_model_module": "@jupyter-widgets/base",
            "_model_module_version": "1.2.0",
            "_model_name": "LayoutModel",
            "_view_count": null,
            "_view_module": "@jupyter-widgets/base",
            "_view_module_version": "1.2.0",
            "_view_name": "LayoutView",
            "align_content": null,
            "align_items": null,
            "align_self": null,
            "border": null,
            "bottom": null,
            "display": null,
            "flex": null,
            "flex_flow": null,
            "grid_area": null,
            "grid_auto_columns": null,
            "grid_auto_flow": null,
            "grid_auto_rows": null,
            "grid_column": null,
            "grid_gap": null,
            "grid_row": null,
            "grid_template_areas": null,
            "grid_template_columns": null,
            "grid_template_rows": null,
            "height": null,
            "justify_content": null,
            "justify_items": null,
            "left": null,
            "margin": null,
            "max_height": null,
            "max_width": null,
            "min_height": null,
            "min_width": null,
            "object_fit": null,
            "object_position": null,
            "order": null,
            "overflow": null,
            "overflow_x": null,
            "overflow_y": null,
            "padding": null,
            "right": null,
            "top": null,
            "visibility": null,
            "width": null
          }
        },
        "8b8888c0e06a45b7b6e6dcfd5d91f5d5": {
          "model_module": "@jupyter-widgets/controls",
          "model_name": "DescriptionStyleModel",
          "model_module_version": "1.5.0",
          "state": {
            "_model_module": "@jupyter-widgets/controls",
            "_model_module_version": "1.5.0",
            "_model_name": "DescriptionStyleModel",
            "_view_count": null,
            "_view_module": "@jupyter-widgets/base",
            "_view_module_version": "1.2.0",
            "_view_name": "StyleView",
            "description_width": ""
          }
        }
      }
    }
  },
  "cells": [
    {
      "cell_type": "code",
      "source": [
        "! apt-get install git\n",
        "! git clone https://github.com/joaorossi15/requirements-to-us.git\n",
        "! apt-get install texlive texlive-xetex texlive-latex-extra pandoc"
      ],
      "metadata": {
        "collapsed": true,
        "id": "z3-nVfP9WZPW"
      },
      "execution_count": null,
      "outputs": []
    },
    {
      "cell_type": "code",
      "source": [
        "! pip install langchain_community\n",
        "! pip install chromadb\n",
        "! pip install pypdf\n",
        "! pip install importmonkey\n",
        "! pip install optimum\n",
        "! pip install auto-gptq\n",
        "! pip install peft\n",
        "!pip install pypandoc"
      ],
      "metadata": {
        "id": "uWRuiL74lOq7",
        "collapsed": true
      },
      "execution_count": null,
      "outputs": []
    },
    {
      "cell_type": "code",
      "source": [
        "from importmonkey import add_path\n",
        "add_path(\"/content/requirements-to-us/\")\n",
        "import flow\n",
        "from rag.rag import generate_store"
      ],
      "metadata": {
        "id": "n-Im13JeR5lk"
      },
      "execution_count": 4,
      "outputs": []
    },
    {
      "cell_type": "markdown",
      "source": [
        "## Generate vector database using the domain specific knowledge documents"
      ],
      "metadata": {
        "id": "_FyZWGP-TEHx"
      }
    },
    {
      "cell_type": "code",
      "source": [
        "generate_store(\"./requirements-to-us/rag-data/\", \"./requirements-to-us/chroma/\")"
      ],
      "metadata": {
        "id": "TUZGqLiBTue9",
        "collapsed": true
      },
      "execution_count": null,
      "outputs": []
    },
    {
      "cell_type": "markdown",
      "source": [
        "### Create langchain pipeline to use the vector database and the model to generate the best response possible"
      ],
      "metadata": {
        "id": "btynC8HTTTaq"
      }
    },
    {
      "cell_type": "code",
      "source": [
        "from huggingface_hub import notebook_login\n",
        "notebook_login()"
      ],
      "metadata": {
        "collapsed": true,
        "id": "WF3jJueNCTzo",
        "colab": {
          "base_uri": "https://localhost:8080/",
          "height": 17,
          "referenced_widgets": [
            "27f719e6e4324697b2725eb01dd7f23b",
            "6f8b02f15ff7433d92d8213cf9cb172e",
            "6174a8ad11e344f5b612640cf3af1f12",
            "ae9c00d35244455691e6d7ac7b66bacc",
            "fb8b629a300245c9811be1c8c015b2f6",
            "aece55dc0b974d319c00be6af9a6950d",
            "286ebdc315ce46ac9b0fd75f1dc8088d",
            "b59ab0fc00264ae48008b6c56eb3afde",
            "3d57ce38aac447db911219a476f0c330",
            "6c1b7b27b0e34a3f903c832dbdcf922e",
            "2886ad252da84283a1961273edf8a370",
            "013d9d5f42ab44c988b6035d96e33a5b",
            "6ff90460b25b465d89dd8f5cd5e2fbd8",
            "9df56d5b99f246a8b0063954796d7cf4",
            "7aa5cc3f126f47e292f3cea1ec5b4196",
            "da53fad6ef0f467f96e8f53147c8e8fd",
            "3e6f33f96fb949af88963694c03f6e5f",
            "c0796e075fd1498f9dba439a9a22b198",
            "b16d0f89d4b445bea2f4440904f8a187",
            "8b8888c0e06a45b7b6e6dcfd5d91f5d5"
          ]
        },
        "outputId": "c6d81821-4e25-459c-94cc-1ec266f666a2"
      },
      "execution_count": 6,
      "outputs": [
        {
          "output_type": "display_data",
          "data": {
            "text/plain": [
              "VBox(children=(HTML(value='<center> <img\\nsrc=https://huggingface.co/front/assets/huggingface_logo-noborder.sv…"
            ],
            "application/vnd.jupyter.widget-view+json": {
              "version_major": 2,
              "version_minor": 0,
              "model_id": "27f719e6e4324697b2725eb01dd7f23b"
            }
          },
          "metadata": {}
        }
      ]
    },
    {
      "cell_type": "code",
      "source": [
        "chain = flow.model_rag(persist_path=\"./requirements-to-us/chroma/\")"
      ],
      "metadata": {
        "id": "7SsM6LbCKJID",
        "collapsed": true
      },
      "execution_count": null,
      "outputs": []
    },
    {
      "cell_type": "code",
      "source": [
        "query = [\"The AI should not make decisions without user consent\"]\n",
        "query.append(\"The system should be transparent with how and where the training and testing data were gathered\")\n",
        "query.append(\"Develop robust APIs or web-scraping modules to gather Amazon product data, including prices, descriptions, customer reviews, ratings, and stock levels.\")\n",
        "query.append(\"Implement advanced NLP algorithms to extract insights, detect sentiment, and identify key themes or common complaints from customer reviews\")\n",
        "query.append(\"Create a machine learning-based recommendation system to suggest complementary products or alternatives based on user preferences and product performance metrics.\")\n",
        "query.append(\"Develop predictive analytics to forecast stock levels and avoid overstocking or stockouts, improving supply chain efficiency.\")\n",
        "\n",
        "c = []\n",
        "for q in query:\n",
        "    c.append(chain.invoke(q))"
      ],
      "metadata": {
        "id": "ZgPJLNJ4-WkT",
        "collapsed": true
      },
      "execution_count": null,
      "outputs": []
    },
    {
      "cell_type": "markdown",
      "source": [
        "### Response generated"
      ],
      "metadata": {
        "id": "-V-R5YGHTh6n"
      }
    },
    {
      "cell_type": "code",
      "source": [
        "import re\n",
        "\n",
        "for e in c:\n",
        "    s = ''.join(e['text'].split('[/INST]')[1])\n",
        "    strlist = re.split('(?<=\\D)(?=\\d)', s)\n",
        "    print(''.join(strlist[:-1]))\n",
        "    print()\n",
        "    print()"
      ],
      "metadata": {
        "colab": {
          "base_uri": "https://localhost:8080/"
        },
        "id": "dRtazqcWESHo",
        "outputId": "fcf97597-16c2-435a-89ce-6831cd561daa"
      },
      "execution_count": 9,
      "outputs": [
        {
          "output_type": "stream",
          "name": "stdout",
          "text": [
            "\n",
            "     Title: User Consent for Decision Making\n",
            "     Description: As a responsible user, I want the AI to obtain my explicit consent before making any decisions affecting me so that my autonomy and self-determination are respected and protected.\n",
            "     Work:\n",
            "     1. Implement a mechanism for obtaining user consent prior to the AI making any decisions that affect the user's life.\n",
            "     2. Ensure that the consent process is clear, understandable, and accessible to all users, including those who may be vulnerable or less tech-savvy.\n",
            "     3. Develop a notification system that informs users whenever the AI is about to make a decision requiring their consent.\n",
            "     \n",
            "\n",
            "\n",
            "\n",
            "     Title: Transparent Data Provenance\n",
            "     Description: As a user, I want to know how and where the training and testing data were gathered so that I can understand the origins and quality of the data used in the AI system.\n",
            "     Work:\n",
            "     1. The system must provide detailed documentation explaining the methods used to gather the training and testing data.\n",
            "     2. The documentation should include information about the sources of the data, such as databases, surveys, or public records.\n",
            "     3. The system should clearly state any data preprocessing steps applied to the raw data before training or testing.\n",
            "     \n",
            "\n",
            "\n",
            "\n",
            "     Title: Ethical Gathering of Amazon Product Data\n",
            "     Description: As a researcher, I want to develop robust APIs or web-scraping modules to gather Amazon product data, including prices, descriptions, customer reviews, ratings, and stock levels, so that I can ensure the integrity and transparency of the data used for my research while adhering to ethical standards.\n",
            "     Work:\n",
            "     1. Implement APIs that comply with Amazon's terms of service for data collection.\n",
            "     2. Ensure that the scraping methods do not violate any privacy laws or regulations concerning user data.\n",
            "     \n",
            "\n",
            "\n",
            "\n",
            "     Title: Extracting Ethical Insights from Customer Reviews\n",
            "     Description: As a researcher, I want to implement advanced NLP algorithms to extract insights, detect sentiment, and identify key themes or common complaints from customer reviews so that I can understand and address customer concerns effectively.\n",
            "     Work:\n",
            "     - Acceptance Criteria 1: Develop and integrate state-of-the-art NLP models capable of processing large volumes of customer reviews.\n",
            "     - Acceptance Criteria 2: Implement sentiment analysis capabilities to accurately gauge the emotional tone of customer feedback.\n",
            "     - Acceptance Criteria 3: Identify and categorize common themes or complaints within customer reviews using machine learning techniques.\n",
            "     - Acceptance Criteria \n",
            "\n",
            "\n",
            "\n",
            "\n",
            "\n",
            "\n",
            "     Title: Transparent Predictive Analytics for Supply Chain Efficiency\n",
            "     Description: As a supply chain manager, I want to understand how the predictive analytics model for forecasting stock levels is developed and implemented so that I can ensure transparency, accountability, and compliance with ethical standards.\n",
            "     Work:\n",
            "     - Acceptance Criteria 1: The system provides clear documentation explaining the methodology used to develop the predictive analytics model.\n",
            "     - Acceptance Criteria 2: The system includes a feature that allows for the reproduction of predictions by external auditors to ensure reproducibility and trustworthiness.\n",
            "     - Acceptance Criteria \n",
            "\n",
            "\n"
          ]
        }
      ]
    },
    {
      "cell_type": "markdown",
      "source": [
        "### Documents used for context"
      ],
      "metadata": {
        "id": "iZEkq8G_Tjwh"
      }
    },
    {
      "cell_type": "code",
      "source": [
        "c[0]['context'][0]"
      ],
      "metadata": {
        "colab": {
          "base_uri": "https://localhost:8080/"
        },
        "id": "DBgyNZ_7385z",
        "outputId": "a64bf18c-f291-40d6-f3c5-b654fa1d149e"
      },
      "execution_count": 10,
      "outputs": [
        {
          "output_type": "execute_result",
          "data": {
            "text/plain": [
              "Document(metadata={'page': 13, 'source': 'requirements-to-us/rag-data/ryan.pdf'}, page_content='reasonable expectations and consent of the individuals but must also be used for legitimate\\npurposes (Future Advocacy, 2019).\\n4.7.4 Choice. AI should protect users’ power to decide about decisions in their lives\\n(Floridi et al., 2018). AI should not “compromise human freedom and autonomy by\\nillegitimately and surreptitiously reducing options for and knowledge of citizens” (European\\nGroup on Ethics in Science and New Technologies, 2018,p .1 7 ) .')"
            ]
          },
          "metadata": {},
          "execution_count": 10
        }
      ]
    },
    {
      "cell_type": "markdown",
      "source": [
        "### Generate PDF"
      ],
      "metadata": {
        "id": "PNMO8KoI12I2"
      }
    },
    {
      "cell_type": "code",
      "source": [
        "from google.colab import drive\n",
        "drive.mount('/content/drive')"
      ],
      "metadata": {
        "collapsed": true,
        "colab": {
          "base_uri": "https://localhost:8080/"
        },
        "id": "6kgymSqHz7Rs",
        "outputId": "bf93cc40-1a07-4916-8119-c8ce18b2a672"
      },
      "execution_count": 12,
      "outputs": [
        {
          "output_type": "stream",
          "name": "stdout",
          "text": [
            "Mounted at /content/drive\n"
          ]
        }
      ]
    },
    {
      "cell_type": "code",
      "source": [
        "!jupyter nbconvert --to PDF \"/content/requirements-to-us/main.ipynb\""
      ],
      "metadata": {
        "id": "P3CMQER80SNV"
      },
      "execution_count": null,
      "outputs": []
    },
    {
      "cell_type": "code",
      "source": [],
      "metadata": {
        "id": "azInBWYG58io"
      },
      "execution_count": null,
      "outputs": []
    }
  ]
}