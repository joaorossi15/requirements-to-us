{
  "nbformat": 4,
  "nbformat_minor": 0,
  "metadata": {
    "colab": {
      "provenance": [],
      "gpuType": "A100",
      "machine_shape": "hm",
      "authorship_tag": "ABX9TyOSw71hMKocxPbk6h4JRJ+G"
    },
    "kernelspec": {
      "name": "python3",
      "display_name": "Python 3"
    },
    "language_info": {
      "name": "python"
    },
    "accelerator": "GPU"
  },
  "cells": [
    {
      "cell_type": "code",
      "source": [
        "! apt-get install git\n",
        "! git clone https://github.com/joaorossi15/requirements-to-us.git"
      ],
      "metadata": {
        "collapsed": true,
        "id": "z3-nVfP9WZPW"
      },
      "execution_count": null,
      "outputs": []
    },
    {
      "cell_type": "code",
      "source": [
        "! pip install langchain_community\n",
        "! pip install chromadb\n",
        "! pip install pypdf\n",
        "! pip install importmonkey\n",
        "! pip install optimum\n",
        "! pip install auto-gptq\n",
        "! pip install peft"
      ],
      "metadata": {
        "id": "uWRuiL74lOq7",
        "collapsed": true
      },
      "execution_count": null,
      "outputs": []
    },
    {
      "cell_type": "code",
      "source": [
        "from importmonkey import add_path\n",
        "add_path(\"/content/requirements-to-us/\")\n",
        "import flow\n",
        "from rag.rag import generate_store"
      ],
      "metadata": {
        "id": "n-Im13JeR5lk"
      },
      "execution_count": 3,
      "outputs": []
    },
    {
      "cell_type": "markdown",
      "source": [
        "## Generate vector database using the domain specific knowledge documents"
      ],
      "metadata": {
        "id": "_FyZWGP-TEHx"
      }
    },
    {
      "cell_type": "code",
      "source": [
        "generate_store(\"./requirements-to-us/rag-data/\", \"./requirements-to-us/chroma/\")"
      ],
      "metadata": {
        "id": "TUZGqLiBTue9",
        "collapsed": true
      },
      "execution_count": null,
      "outputs": []
    },
    {
      "cell_type": "markdown",
      "source": [
        "### Create langchain pipeline to use the vector database and the model to generate the best response possible"
      ],
      "metadata": {
        "id": "btynC8HTTTaq"
      }
    },
    {
      "cell_type": "code",
      "source": [
        "from huggingface_hub import notebook_login\n",
        "notebook_login()"
      ],
      "metadata": {
        "collapsed": true,
        "id": "WF3jJueNCTzo"
      },
      "execution_count": null,
      "outputs": []
    },
    {
      "cell_type": "code",
      "source": [
        "chain = flow.model_rag(persist_path=\"./requirements-to-us/chroma/\")"
      ],
      "metadata": {
        "id": "7SsM6LbCKJID",
        "collapsed": true
      },
      "execution_count": null,
      "outputs": []
    },
    {
      "cell_type": "code",
      "source": [
        "query = \"The user wants the AI to not take decisions without his consent\"\n",
        "c = chain.invoke(query)"
      ],
      "metadata": {
        "id": "ZgPJLNJ4-WkT",
        "collapsed": true
      },
      "execution_count": null,
      "outputs": []
    },
    {
      "cell_type": "markdown",
      "source": [
        "### Response generated"
      ],
      "metadata": {
        "id": "-V-R5YGHTh6n"
      }
    },
    {
      "cell_type": "code",
      "source": [
        "import re\n",
        "s = ''.join(c['text'].split('[/INST]')[1])\n",
        "strlist = re.split('(?<=\\D)(?=\\d)', s)\n",
        "print(''.join(strlist[:-1]))"
      ],
      "metadata": {
        "colab": {
          "base_uri": "https://localhost:8080/"
        },
        "id": "dRtazqcWESHo",
        "outputId": "e6d06951-ca26-416b-cb36-e7402063c8f8"
      },
      "execution_count": 30,
      "outputs": [
        {
          "output_type": "stream",
          "name": "stdout",
          "text": [
            "\n",
            "     Title: User Consent for Decision Making\n",
            "     Description: As a user, i want the AI to obtain my explicit consent before making decisions on my behalf so that i maintain control over my decisions and ensure that my autonomy is respected.\n",
            "     Work:\n",
            "     1. Implement a mechanism for users to provide explicit consent for AI to make decisions on their behalf.\n",
            "     2. Ensure that the AI does not initiate any action without obtaining prior consent from the user.\n",
            "     3. Provide clear communication to users about what decisions the AI will make and when it requires consent.\n",
            "     4. Develop a user interface that allows users to easily revoke or modify their consent settings at any time.\n",
            "     \n"
          ]
        }
      ]
    },
    {
      "cell_type": "markdown",
      "source": [
        "### Documents used for context"
      ],
      "metadata": {
        "id": "iZEkq8G_Tjwh"
      }
    },
    {
      "cell_type": "code",
      "source": [
        "c['context']"
      ],
      "metadata": {
        "colab": {
          "base_uri": "https://localhost:8080/"
        },
        "id": "DBgyNZ_7385z",
        "outputId": "fb0689d6-c482-4f20-d5ff-53043dc90aa6"
      },
      "execution_count": 31,
      "outputs": [
        {
          "output_type": "execute_result",
          "data": {
            "text/plain": [
              "[Document(metadata={'page': 13, 'source': 'requirements-to-us/rag-data/ryan.pdf'}, page_content='reasonable expectations and consent of the individuals but must also be used for legitimate\\npurposes (Future Advocacy, 2019).\\n4.7.4 Choice. AI should protect users’ power to decide about decisions in their lives\\n(Floridi et al., 2018). AI should not “compromise human freedom and autonomy by\\nillegitimately and surreptitiously reducing options for and knowledge of citizens” (European\\nGroup on Ethics in Science and New Technologies, 2018,p .1 7 ) .'),\n",
              " Document(metadata={'page': 12, 'source': 'requirements-to-us/rag-data/ryan.pdf'}, page_content='ensure that individuals consent to how their data is being used, AI should not harm\\nindividuals’abilities to make choices, or manipulate their self-determination.\\n4.7.1 Freedom.Developers should acknowledge, identify and ameliorate circumstances\\nwhere AI may create harm against human freedoms. Organisations should ensure that the\\nend users’freedoms are not infringed upon during the use of AI (High-Level Expert Group'),\n",
              " Document(metadata={'page': 13, 'source': 'requirements-to-us/rag-data/ryan.pdf'}, page_content='Group on Ethics in Science and New Technologies, 2018,p .1 7 ) .\\n4.7.5 Self-determination. There needs to be a balance between decision-making power\\nthat is freely given by the user to the autonomous systems and when this option is taken\\naway or undermined by the system (Floridi et al.,2 0 1 8). AI organisations should not\\nmanipulate individual’s self-determination, particularly those who may be vulnerable to\\nabuse (Rathenau Institute, 2017,p .2 6 ) .'),\n",
              " Document(metadata={'page': 13, 'source': 'requirements-to-us/rag-data/ryan.pdf'}, page_content='to the system’s functionality” (High-Level Expert Group on AI, 2019, p. 16). Users should be\\ninformed actors and have control over their decisions when interacting with AI (Council of\\nEurope, 2019).\\n4.7.3 Consent. The use of personal data must be clearly articulated and agreed upon\\nbefore its use (UNDG, 2017). If personal data is repurposed, developers should ensure that it\\nis compatible with the original fair processing requirements when consent is given (ICO,')]"
            ]
          },
          "metadata": {},
          "execution_count": 31
        }
      ]
    },
    {
      "cell_type": "code",
      "source": [],
      "metadata": {
        "id": "rrGAWhplt7lq"
      },
      "execution_count": null,
      "outputs": []
    }
  ]
}