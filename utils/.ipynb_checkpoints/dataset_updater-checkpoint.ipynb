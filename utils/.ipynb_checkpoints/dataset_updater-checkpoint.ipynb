{
 "cells": [
  {
   "cell_type": "code",
   "execution_count": 44,
   "metadata": {},
   "outputs": [
    {
     "ename": "ModuleNotFoundError",
     "evalue": "No module named 'openai'",
     "output_type": "error",
     "traceback": [
      "\u001b[1;31m---------------------------------------------------------------------------\u001b[0m",
      "\u001b[1;31mModuleNotFoundError\u001b[0m                       Traceback (most recent call last)",
      "Cell \u001b[1;32mIn[44], line 3\u001b[0m\n\u001b[0;32m      1\u001b[0m \u001b[38;5;28;01mimport\u001b[39;00m \u001b[38;5;21;01mpandas\u001b[39;00m \u001b[38;5;28;01mas\u001b[39;00m \u001b[38;5;21;01mpd\u001b[39;00m\n\u001b[0;32m      2\u001b[0m \u001b[38;5;28;01mimport\u001b[39;00m \u001b[38;5;21;01mnumpy\u001b[39;00m \u001b[38;5;28;01mas\u001b[39;00m \u001b[38;5;21;01mnp\u001b[39;00m\n\u001b[1;32m----> 3\u001b[0m \u001b[38;5;28;01mfrom\u001b[39;00m \u001b[38;5;21;01mopenai\u001b[39;00m \u001b[38;5;28;01mimport\u001b[39;00m OpenAI\n",
      "\u001b[1;31mModuleNotFoundError\u001b[0m: No module named 'openai'"
     ]
    }
   ],
   "source": [
    "import pandas as pd\n",
    "import numpy as np\n",
    "from openai import OpenAI\n"
   ]
  },
  {
   "cell_type": "code",
   "execution_count": 40,
   "metadata": {},
   "outputs": [],
   "source": [
    "df = pd.read_csv('../data/data.csv')\n",
    "df = df[['text', 'transparency_sum', 'dignity_sum', 'sustainability_sum', 'trust_sum','freedom_autonomy_sum', 'beneficence_sum', 'privacy_sum', 'responsibility_sum', 'non_maleficence_sum', 'justice_equity_sum']]"
   ]
  },
  {
   "cell_type": "code",
   "execution_count": 41,
   "metadata": {},
   "outputs": [],
   "source": [
    "df['major_principle'] = df[['transparency_sum', 'dignity_sum', 'sustainability_sum', 'trust_sum','freedom_autonomy_sum', 'beneficence_sum', 'privacy_sum', 'responsibility_sum', 'non_maleficence_sum', 'justice_equity_sum']].idxmax(axis=1)\n",
    "df['second_major_principle'] = df[['transparency_sum', 'dignity_sum', 'sustainability_sum', 'trust_sum','freedom_autonomy_sum', 'beneficence_sum', 'privacy_sum', 'responsibility_sum', 'non_maleficence_sum', 'justice_equity_sum']].stack().groupby(level=0).apply(lambda s: s.nlargest(2).index[-1][1])\n",
    "df['third_major_principle'] = df[['transparency_sum', 'dignity_sum', 'sustainability_sum', 'trust_sum','freedom_autonomy_sum', 'beneficence_sum', 'privacy_sum', 'responsibility_sum', 'non_maleficence_sum', 'justice_equity_sum']].stack().groupby(level=0).apply(lambda s: s.nlargest(3).index[-1][1])"
   ]
  },
  {
   "cell_type": "code",
   "execution_count": 42,
   "metadata": {},
   "outputs": [
    {
     "data": {
      "text/html": [
       "<div>\n",
       "<style scoped>\n",
       "    .dataframe tbody tr th:only-of-type {\n",
       "        vertical-align: middle;\n",
       "    }\n",
       "\n",
       "    .dataframe tbody tr th {\n",
       "        vertical-align: top;\n",
       "    }\n",
       "\n",
       "    .dataframe thead th {\n",
       "        text-align: right;\n",
       "    }\n",
       "</style>\n",
       "<table border=\"1\" class=\"dataframe\">\n",
       "  <thead>\n",
       "    <tr style=\"text-align: right;\">\n",
       "      <th></th>\n",
       "      <th>text</th>\n",
       "      <th>major_principle</th>\n",
       "      <th>second_major_principle</th>\n",
       "      <th>third_major_principle</th>\n",
       "    </tr>\n",
       "  </thead>\n",
       "  <tbody>\n",
       "    <tr>\n",
       "      <th>0</th>\n",
       "      <td>An intelligent system connected to the video s...</td>\n",
       "      <td>privacy_sum</td>\n",
       "      <td>transparency_sum</td>\n",
       "      <td>trust_sum</td>\n",
       "    </tr>\n",
       "    <tr>\n",
       "      <th>1</th>\n",
       "      <td>Terminal area and booking documents and bookin...</td>\n",
       "      <td>transparency_sum</td>\n",
       "      <td>beneficence_sum</td>\n",
       "      <td>justice_equity_sum</td>\n",
       "    </tr>\n",
       "    <tr>\n",
       "      <th>2</th>\n",
       "      <td>Before a person with a vehicle enters the port...</td>\n",
       "      <td>transparency_sum</td>\n",
       "      <td>freedom_autonomy_sum</td>\n",
       "      <td>privacy_sum</td>\n",
       "    </tr>\n",
       "    <tr>\n",
       "      <th>3</th>\n",
       "      <td>A clear advertisement is placed on the booking...</td>\n",
       "      <td>transparency_sum</td>\n",
       "      <td>privacy_sum</td>\n",
       "      <td>trust_sum</td>\n",
       "    </tr>\n",
       "    <tr>\n",
       "      <th>4</th>\n",
       "      <td>Data information policy is communicated at the...</td>\n",
       "      <td>transparency_sum</td>\n",
       "      <td>privacy_sum</td>\n",
       "      <td>responsibility_sum</td>\n",
       "    </tr>\n",
       "  </tbody>\n",
       "</table>\n",
       "</div>"
      ],
      "text/plain": [
       "                                                text   major_principle  \\\n",
       "0  An intelligent system connected to the video s...       privacy_sum   \n",
       "1  Terminal area and booking documents and bookin...  transparency_sum   \n",
       "2  Before a person with a vehicle enters the port...  transparency_sum   \n",
       "3  A clear advertisement is placed on the booking...  transparency_sum   \n",
       "4  Data information policy is communicated at the...  transparency_sum   \n",
       "\n",
       "  second_major_principle third_major_principle  \n",
       "0       transparency_sum             trust_sum  \n",
       "1        beneficence_sum    justice_equity_sum  \n",
       "2   freedom_autonomy_sum           privacy_sum  \n",
       "3            privacy_sum             trust_sum  \n",
       "4            privacy_sum    responsibility_sum  "
      ]
     },
     "execution_count": 42,
     "metadata": {},
     "output_type": "execute_result"
    }
   ],
   "source": [
    "df = df[['text', 'major_principle', 'second_major_principle', 'third_major_principle']]\n",
    "df.head()"
   ]
  },
  {
   "cell_type": "code",
   "execution_count": null,
   "metadata": {},
   "outputs": [],
   "source": [
    "client = OpenAI()\n",
    "\n",
    "response = client.chat.completions.create(\n",
    "  model=\"gpt-3.5-turbo\",\n",
    "  messages=[\n",
    "    {\"role\": \"system\", \"content\": \"You are a helpful assistant.\"},\n",
    "    {\"role\": \"user\", \"content\": \"Who won the world series in 2020?\"},\n",
    "    {\"role\": \"assistant\", \"content\": \"The Los Angeles Dodgers won the World Series in 2020.\"},\n",
    "    {\"role\": \"user\", \"content\": \"Where was it played?\"}\n",
    "  ]\n",
    ")"
   ]
  }
 ],
 "metadata": {
  "kernelspec": {
   "display_name": "Python 3",
   "language": "python",
   "name": "python3"
  },
  "language_info": {
   "codemirror_mode": {
    "name": "ipython",
    "version": 3
   },
   "file_extension": ".py",
   "mimetype": "text/x-python",
   "name": "python",
   "nbconvert_exporter": "python",
   "pygments_lexer": "ipython3",
   "version": "3.12.4"
  }
 },
 "nbformat": 4,
 "nbformat_minor": 2
}
